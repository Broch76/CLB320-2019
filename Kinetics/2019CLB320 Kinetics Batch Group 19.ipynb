{
 "cells": [
  {
   "cell_type": "code",
   "execution_count": 57,
   "metadata": {},
   "outputs": [],
   "source": [
    "import numpy\n",
    "from numpy import linspace\n",
    "from scipy.integrate import odeint\n",
    "from scipy.stats import linregress \n",
    "import matplotlib.pyplot as plt\n",
    "%matplotlib inline"
   ]
  },
  {
   "cell_type": "markdown",
   "metadata": {},
   "source": [
    "$$A + B \\to C + D$$\n",
    "\n",
    "|Symbol|Chemical|\n",
    "|---|---|\n",
    "|A|ethyl acetate|\n",
    "|B|sodium hydroxide|\n",
    "|C|sodium acetate|\n",
    "|D|ethanol|\n"
   ]
  },
  {
   "cell_type": "code",
   "execution_count": 58,
   "metadata": {},
   "outputs": [],
   "source": [
    "CAo = 0.04 #mol/L\n",
    "CBo = 0.02 #mol/L (the limiting reagent)\n",
    "CCo = 0.00 #mol/L\n",
    "CDo = 0.00 #mol/L\n",
    "V = 0.2 #L\n",
    "NAo = CAo*V\n",
    "NBo = CBo*V\n",
    "NCo = CCo*V\n",
    "NDo = CDo*V\n",
    "\n"
   ]
  },
  {
   "cell_type": "code",
   "execution_count": 59,
   "metadata": {},
   "outputs": [],
   "source": [
    "import pandas, array"
   ]
  },
  {
   "cell_type": "code",
   "execution_count": 60,
   "metadata": {},
   "outputs": [
    {
     "data": {
      "text/plain": [
       "9.943412"
      ]
     },
     "execution_count": 60,
     "metadata": {},
     "output_type": "execute_result"
    }
   ],
   "source": [
    "kbatch = numpy.array(pandas.read_excel('kbatch.xlsx'))\n",
    "kbatch[0,1] #testing "
   ]
  },
  {
   "cell_type": "code",
   "execution_count": 61,
   "metadata": {},
   "outputs": [
    {
     "data": {
      "text/plain": [
       "array([9.943412, 9.957992, 9.972571, ..., 3.83457 , 3.863729, 3.84915 ])"
      ]
     },
     "execution_count": 61,
     "metadata": {},
     "output_type": "execute_result"
    }
   ],
   "source": [
    "kbatchexp = kbatch[:,1]\n",
    "kbatchexp #test"
   ]
  },
  {
   "cell_type": "code",
   "execution_count": 62,
   "metadata": {},
   "outputs": [],
   "source": [
    "Kstart = 5.54 #from B solution conductivity testing\n",
    "Kfinal = 3.85 #average of last k readings"
   ]
  },
  {
   "cell_type": "code",
   "execution_count": 63,
   "metadata": {},
   "outputs": [
    {
     "data": {
      "text/plain": [
       "1458"
      ]
     },
     "execution_count": 63,
     "metadata": {},
     "output_type": "execute_result"
    }
   ],
   "source": [
    "tTot = len(kbatch)\n",
    "tTot #test"
   ]
  },
  {
   "cell_type": "code",
   "execution_count": 117,
   "metadata": {},
   "outputs": [],
   "source": [
    "def conversion(K):\n",
    "    X = []\n",
    "    n = tTot\n",
    "    for i in range(n):\n",
    "        conv = (Kstart-K[i])/(Kstart - Kfinal)\n",
    "        X.append(conv)\n",
    "        i += 1\n",
    "    return(X)\n"
   ]
  },
  {
   "cell_type": "code",
   "execution_count": 65,
   "metadata": {},
   "outputs": [],
   "source": [
    "te = linspace(0,tTot,tTot)"
   ]
  },
  {
   "cell_type": "code",
   "execution_count": 118,
   "metadata": {},
   "outputs": [],
   "source": [
    "XBexp = conversion(kbatchexp)\n",
    "#XBexp"
   ]
  },
  {
   "cell_type": "code",
   "execution_count": 128,
   "metadata": {},
   "outputs": [],
   "source": [
    "k = 0.5\n",
    "n = 1\n",
    "m = 1"
   ]
  },
  {
   "cell_type": "markdown",
   "metadata": {},
   "source": [
    "CA = 0.04mL/m3 - XB*CBo  (1:1 stoichiometry);\n",
    "CA = CAo - XB*CBo;\n",
    "CB = CBo*(1 - XB)\n"
   ]
  },
  {
   "cell_type": "code",
   "execution_count": 114,
   "metadata": {},
   "outputs": [],
   "source": [
    "tspan = linspace(0,1500,1500)"
   ]
  },
  {
   "cell_type": "code",
   "execution_count": 132,
   "metadata": {},
   "outputs": [],
   "source": [
    "def batchdiff(x,t):\n",
    "    if x>= 0:\n",
    "        rA = -k*(((CAo - x*CBo)**m)*((CBo - x*CBo)**n))\n",
    "        rB = rA\n",
    "        dCBdt = rB\n",
    "    else:\n",
    "        dCBdt = 0\n",
    "        \n",
    "    return(dCBdt) "
   ]
  },
  {
   "cell_type": "code",
   "execution_count": 135,
   "metadata": {},
   "outputs": [],
   "source": [
    "CB = odeint(batchdiff,0,tspan)\n",
    "XB = CB/CBo\n",
    "#XB = odeint(batchdiff, 0, tspan)"
   ]
  },
  {
   "cell_type": "code",
   "execution_count": 136,
   "metadata": {},
   "outputs": [
    {
     "data": {
      "image/png": "[encoded data removed]",
      "text/plain": [
       "<Figure size 432x288 with 1 Axes>"
      ]
     },
     "metadata": {
      "needs_background": "light"
     },
     "output_type": "display_data"
    }
   ],
   "source": [
    "plt.figure(1)\n",
    "plt.plot(te,XBexp, '*r')\n",
    "plt.plot(tspan,XB)\n",
    "\n",
    "plt.grid()\n",
    "plt.show()"
   ]
  },
  {
   "cell_type": "code",
   "execution_count": null,
   "metadata": {},
   "outputs": [],
   "source": []
  }
 ],
 "metadata": {
  "kernelspec": {
   "display_name": "Python 3",
   "language": "python",
   "name": "python3"
  },
  "language_info": {
   "codemirror_mode": {
    "name": "ipython",
    "version": 3
   },
   "file_extension": ".py",
   "mimetype": "text/x-python",
   "name": "python",
   "nbconvert_exporter": "python",
   "pygments_lexer": "ipython3",
   "version": "3.7.3"
  }
 },
 "nbformat": 4,
 "nbformat_minor": 2
}
