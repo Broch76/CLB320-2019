{
 "cells": [
  {
   "cell_type": "code",
   "execution_count": 1,
   "metadata": {},
   "outputs": [],
   "source": [
    "import sympy\n",
    "sympy.init_printing()\n",
    "import scipy.integrate\n",
    "import numpy as np\n",
    "import matplotlib.pyplot as plt\n",
    "%matplotlib inline"
   ]
  },
  {
   "cell_type": "code",
   "execution_count": 2,
   "metadata": {},
   "outputs": [
    {
     "data": {
      "image/png": "[encoded data removed]",
      "text/latex": [
       "$$\\left ( 0.789, \\quad 1, \\quad x_{et3}, \\quad x_{et7}\\right )$$"
      ],
      "text/plain": [
       "(0.789, 1, xₑₜ₃, xₑₜ₇)"
      ]
     },
     "execution_count": 2,
     "metadata": {},
     "output_type": "execute_result"
    }
   ],
   "source": [
    "sge, sgw, xe3, xe7 = sympy.symbols('SG_et, SG_w, x_et3, x_et7 ', postive = True)\n",
    "\n",
    "sge = 0.789\n",
    "sgw = 1 \n",
    "\n",
    "sge, sgw, xe3, xe7 "
   ]
  },
  {
   "cell_type": "code",
   "execution_count": 3,
   "metadata": {},
   "outputs": [],
   "source": [
    "# Stage:[1,      2,     3,     4,     5,    6,      7,     8,    9,     10,    PR]\n",
    "SG_3 = [0.881, 0.864, 0.924, 0.942, 0.953, 0.963, 0.971, 0.981, 0.986, 0.991, 0.997]\n",
    "\n",
    "SG_7 = [0.892, 0.890, 0.939, 0.959, 0.976, 0.978, 0.965, 0.968, 0.979, 0.984, 0.994]"
   ]
  },
  {
   "cell_type": "code",
   "execution_count": 4,
   "metadata": {},
   "outputs": [
    {
     "name": "stdout",
     "output_type": "stream",
     "text": [
      "x_et3 [0.505086314022735, 0.588599262769879, 0.307564473441251, 0.230235155613246, 0.184416385273743, 0.143671287888854, 0.111679462712501, 0.0724234387002331, 0.0530940272824279, 0.0339596654248425, 0.0112517647729920]\n",
      "x_et7 [0.452744777166172, 0.462165184514617, 0.242917493148403, 0.159867357881680, 0.0919508973661720, 0.0841159538278138, 0.135623603369103, 0.123614429517058, 0.0802104865686524, 0.0608022193966015, 0.0225714476432052]\n"
     ]
    }
   ],
   "source": [
    "x_et3a = []\n",
    "x_et7a = []\n",
    "\n",
    "for index,value in enumerate(SG_3):\n",
    "    x3 = sympy.solve(- 1/SG_3[index] + xe3/sge + (1-xe3)/sgw, xe3)\n",
    "    x7 = sympy.solve(- 1/SG_7[index] + xe7/sge + (1-xe7)/sgw, xe7)\n",
    "    x_et3a.append(x3[0])\n",
    "    x_et7a.append(x7[0])\n",
    "    \n",
    "\n",
    "print ('x_et3', x_et3a)\n",
    "\n",
    "print ('x_et7', x_et7a)"
   ]
  },
  {
   "cell_type": "code",
   "execution_count": 5,
   "metadata": {},
   "outputs": [],
   "source": [
    "# Column pressure\n",
    "P1 = 4.85 # kPag\n",
    "\n",
    "# Feed\n",
    "T1 = 40.9 + 273.15 # K\n",
    "F1 = 60 # kg/h\n",
    "\n",
    "# Distillate\n",
    "D1 = 16.5 # kg/h\n",
    "# Reflux\n",
    "R1 = 24 # kg/h\n",
    "Tr1 = 45 + 273.15\n",
    "\n",
    "# Bottoms\n",
    "B1 = 43 # kg/h\n",
    "\n",
    "# Partial reboiler\n",
    "PR1 = 37.2 # kg/h\n",
    "Tpr1_in = 95 + 273.15 # K\n",
    "Tpr1_out = 96.9 + 273.15 # K\n",
    "# Bottoms condersor\n",
    "Bc1 =  127.8 # kg/h\n",
    "Tbc1_in =  18.9 + 273.15 # K\n",
    "Tbc1_out = 33.5 + 273.15 # K\n",
    "# Distillate condensor\n",
    "# Dc1 =  unknown # kg/h\n",
    "Tdc1_in = 18.9 + 273.15 # K\n",
    "Tdc1_out =  34 + 273.15 # K\n",
    "\n",
    "# stage temperatures \n",
    "T1a = 77 + 273.15 # K\n",
    "T2a = 77.98 + 273.15 # K\n",
    "T3a = 81.74 + 273.15 # K\n",
    "T4a = 82.48 + 273.15 # K\n",
    "T5a = 84.18 + 273.15 # K\n",
    "T6a = 86.61 + 273.15 # K\n",
    "T7a = 89.78 + 273.15 # K\n",
    "T8a = 92.92 + 273.15 # K\n",
    "T9a = 94.52 + 273.15 # K\n",
    "T10a = 96 + 273.15 # K\n",
    "\n",
    "Cpwl = 4.186 # kJ/kg.K\n",
    "Cpel = 2.57 # kJ/kg.K\n",
    "Cpwg = 1.996 # kJ/kg.K\n",
    "Cpeg = 1.6 # kJ/kg.K\n",
    "Tref = 298.15 # K\n",
    "λw = 40.65*1000/18 # kJ/kg\n",
    "λe = 841 # kJ/kg"
   ]
  },
  {
   "cell_type": "markdown",
   "metadata": {},
   "source": [
    "# Knowns"
   ]
  },
  {
   "cell_type": "code",
   "execution_count": 6,
   "metadata": {},
   "outputs": [],
   "source": [
    "Vpr = PR1\n",
    "x1 = x_et3a[0]\n",
    "x2 = x_et3a[1]\n",
    "x3 = x_et3a[2]\n",
    "x4 = x_et3a[3]\n",
    "x5 = x_et3a[4]\n",
    "x6 = x_et3a[5]\n",
    "x7 = x_et3a[6]\n",
    "x8 = x_et3a[7]\n",
    "x9 = x_et3a[8]\n",
    "x10 = x_et3a[9]\n",
    "xb = x_et3a[10]\n",
    "ypr = x_et3a[10]\n",
    "L0 = R1"
   ]
  },
  {
   "cell_type": "markdown",
   "metadata": {},
   "source": [
    "# Unknowns"
   ]
  },
  {
   "cell_type": "code",
   "execution_count": 7,
   "metadata": {},
   "outputs": [
    {
     "name": "stdout",
     "output_type": "stream",
     "text": [
      "38\n"
     ]
    }
   ],
   "source": [
    "y1, y2, y3, y4, y5, y6, y7, y8, y9, y10 = sympy.symbols('y_1, y_2, y_3, y_4, y_5, y_6, y_7, y_8, y_9, y_10', positive = True)\n",
    "V1, V2, V3, V4, V5, V6, V7, V8, V9, V10 = sympy.symbols('V_1, V_2, V_3, V_4, V_5, V_6, V_7, V_8, V_9, V_10', positive = True)\n",
    "L1, L2, L3, L4, L5, L6, L7, L8, L9, L10 = sympy.symbols('L_1, L_2, L_3, L_4, L_5, L_6, L_7, L_8, L_9, L_10', positive = True)\n",
    "C, Cf, xc, xcf, x0, xf, C0, xc0 = sympy.symbols('C, C_f, x_c, x_cf, x_0, x_f, C_0, x_c0', positive = True)\n",
    "\n",
    "unknowns = [y1, y2, y3, y4, y5, y6, y7, y8, y9, y10, V1, V2, V3, V4, V5, V6, V7, V8, V9, V10, L1, L2, L3, L4, L5, L6, L7, L8, L9, L10, C, Cf, xc, xcf, x0, xf, C0, xc0]\n",
    "\n",
    "print (len(unknowns))"
   ]
  },
  {
   "cell_type": "markdown",
   "metadata": {},
   "source": [
    "# Equations"
   ]
  },
  {
   "cell_type": "code",
   "execution_count": 8,
   "metadata": {},
   "outputs": [
    {
     "name": "stdout",
     "output_type": "stream",
     "text": [
      "38\n"
     ]
    }
   ],
   "source": [
    "equations = [C + Vpr + L9 - L10 - V10,\n",
    "            xc*C + ypr*Vpr + x9*L9 - x10*L10 - y10*V10,\n",
    "            L10 - C - Vpr - B1, \n",
    "            x10*L10 - xc*C - ypr*Vpr - xb*B1,\n",
    "            V9 + L9 - V10 - L8,\n",
    "            y9*V9 + x9*L9 - y10*V10 - x8*L8,\n",
    "            V8 + L8 - V9 - L7,\n",
    "            y8*V8 + x8*L8 - y9*V9 - x7*L7,\n",
    "            V7 + L7 - V8 - L6,\n",
    "            y7*V7 + x7*L7 - y8*V8 - x6*L6,\n",
    "            V6 + L6 - V7 - L5,\n",
    "            y6*V6 + x6*L6 - y7*V7 - x5*L5,\n",
    "            V5 + L5 - V6 - L4,\n",
    "            y5*V5 + x5*L5 - y6*V6 - x4*L4,\n",
    "            V4 + L4 - V5 - L3,\n",
    "            y4*V4 + x4*L4 - y5*V5 - x3*L3,\n",
    "            V3 + L3 - V4 - L2 - F1 - Cf,\n",
    "            y3*V3 + x3*L3 - y4*V4 - x2*L2 - xf*F1 - xcf*Cf,\n",
    "            V2 + L2 - V3 - L1,\n",
    "            y2*V2 + x2*L2 - y3*V3 - x1*L1,\n",
    "            V1 + L1 - V2 - L0 - C0,\n",
    "            y1*V1 + x1*L1 - y2*V2 - x0*L0 - xc0*C0,\n",
    "            x0 - y1, \n",
    "            xcf - y3,\n",
    "            xc - x10, \n",
    "            y1 - xc0,\n",
    "            C*(xc*λe + (1-xc)*λw) + Vpr*(ypr*Cpeg + (1-ypr)*Cpwg)*(Tpr1_out - Tref) + L9*(x9*Cpel + (1-x9)*Cpwl)*(T9a - Tref) - L10*(x10*Cpel + (1-x10)*Cpwl)*(T10a - Tref) - V10*(y10*Cpeg + (1-y10)*Cpwg)*(T10a - Tref),\n",
    "            V9*(y9*Cpeg + (1-y9)*Cpwg)*(T9a - Tref) + L9*(x9*Cpel + (1-x9)*Cpwl)*(T9a - Tref) - V10*(y10*Cpeg + (1-y10)*Cpwg)*(T10a - Tref) - L8*(x8*Cpel + (1-x8)*Cpwl)*(T8a - Tref), \n",
    "            V8*(y8*Cpeg + (1-y8)*Cpwg)*(T8a - Tref) + L8*(x8*Cpel + (1-x8)*Cpwl)*(T8a - Tref) - V9*(y9*Cpeg + (1-y9)*Cpwg)*(T9a - Tref) - L7*(x7*Cpel + (1-x7)*Cpwl)*(T7a - Tref),\n",
    "            V7*(y7*Cpeg + (1-y7)*Cpwg)*(T7a - Tref) + L7*(x7*Cpel + (1-x7)*Cpwl)*(T7a - Tref) - V8*(y8*Cpeg + (1-y8)*Cpwg)*(T8a - Tref) - L6*(x6*Cpel + (1-x6)*Cpwl)*(T6a - Tref),\n",
    "            V6*(y6*Cpeg + (1-y6)*Cpwg)*(T6a - Tref) + L6*(x6*Cpel + (1-x6)*Cpwl)*(T6a - Tref) - V7*(y7*Cpeg + (1-y7)*Cpwg)*(T7a - Tref) - L5*(x5*Cpel + (1-x5)*Cpwl)*(T5a - Tref),\n",
    "            V5*(y5*Cpeg + (1-y5)*Cpwg)*(T5a - Tref) + L5*(x5*Cpel + (1-x5)*Cpwl)*(T5a - Tref) - V6*(y6*Cpeg + (1-y6)*Cpwg)*(T6a - Tref) - L4*(x4*Cpel + (1-x4)*Cpwl)*(T4a - Tref),\n",
    "            V4*(y4*Cpeg + (1-y4)*Cpwg)*(T4a - Tref) + L4*(x4*Cpel + (1-x4)*Cpwl)*(T4a - Tref) - V5*(y5*Cpeg + (1-y5)*Cpwg)*(T5a - Tref) - L3*(x3*Cpel + (1-x3)*Cpwl)*(T3a - Tref),\n",
    "            V3*(y3*Cpeg + (1-y3)*Cpwg)*(T3a - Tref) + L3*(x3*Cpel + (1-x3)*Cpwl)*(T3a - Tref) - V4*(y4*Cpeg + (1-y4)*Cpwg)*(T4a - Tref) - L2*(x2*Cpel + (1-x2)*Cpwl)*(T2a - Tref) - F1*(xf*Cpel + (1-xf)*Cpwl)*(T1 - Tref) - Cf*(xcf*λe + (1-xcf)*λw),\n",
    "            V2*(y2*Cpeg + (1-y2)*Cpwg)*(T2a - Tref) + L2*(x2*Cpel + (1-x2)*Cpwl)*(T2a - Tref) - V3*(y3*Cpeg + (1-y3)*Cpwg)*(T3a - Tref) - L1*(x1*Cpel + (1-x1)*Cpwl)*(T1a - Tref),\n",
    "            V1*(y1*Cpeg + (1-y1)*Cpwg)*(T1a - Tref) + L1*(x1*Cpel + (1-x1)*Cpwl)*(T1a - Tref) - V2*(y2*Cpeg + (1-y2)*Cpwg)*(T2a - Tref) - L0*(x0*Cpel + (1-x0)*Cpwl)*(Tr1 - Tref) - C0*(xc0*λe + (1-xc0)*λw),\n",
    "            V1 - C0 - R1 - D1, \n",
    "            y1*V1 - xc0*C0 - x0*R1 - x0*D1]\n",
    "\n",
    "print (len(equations))"
   ]
  },
  {
   "cell_type": "code",
   "execution_count": 12,
   "metadata": {},
   "outputs": [
    {
     "data": {
      "image/png": "[encoded data removed]",
      "text/latex": [
       "$$\\left [ \\right ]$$"
      ],
      "text/plain": [
       "[]"
      ]
     },
     "execution_count": 12,
     "metadata": {},
     "output_type": "execute_result"
    }
   ],
   "source": [
    "sol = sympy.solve(equations, unknowns)\n",
    "\n",
    "sol"
   ]
  },
  {
   "cell_type": "code",
   "execution_count": null,
   "metadata": {},
   "outputs": [],
   "source": []
  },
  {
   "cell_type": "code",
   "execution_count": null,
   "metadata": {},
   "outputs": [],
   "source": []
  },
  {
   "cell_type": "code",
   "execution_count": null,
   "metadata": {},
   "outputs": [],
   "source": []
  }
 ],
 "metadata": {
  "kernelspec": {
   "display_name": "Python 3",
   "language": "python",
   "name": "python3"
  },
  "language_info": {
   "codemirror_mode": {
    "name": "ipython",
    "version": 3
   },
   "file_extension": ".py",
   "mimetype": "text/x-python",
   "name": "python",
   "nbconvert_exporter": "python",
   "pygments_lexer": "ipython3",
   "version": "3.7.3"
  }
 },
 "nbformat": 4,
 "nbformat_minor": 2
}
