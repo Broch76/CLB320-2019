{
 "cells": [
  {
   "cell_type": "code",
   "execution_count": 1,
   "metadata": {},
   "outputs": [],
   "source": [
    "import sympy\n",
    "sympy.init_printing()\n",
    "import scipy.integrate\n",
    "import numpy as np\n",
    "import matplotlib.pyplot as plt\n",
    "%matplotlib inline"
   ]
  },
  {
   "cell_type": "markdown",
   "metadata": {},
   "source": [
    "# SG to ethanol mass % conversion"
   ]
  },
  {
   "cell_type": "code",
   "execution_count": 2,
   "metadata": {},
   "outputs": [
    {
     "data": {
      "image/png": "[encoded data removed]",
      "text/latex": [
       "$$\\left ( 0.79, \\quad 1, \\quad x_{et3}, \\quad x_{et7}\\right )$$"
      ],
      "text/plain": [
       "(0.79, 1, xₑₜ₃, xₑₜ₇)"
      ]
     },
     "execution_count": 2,
     "metadata": {},
     "output_type": "execute_result"
    }
   ],
   "source": [
    "sge, sgw, xe3, xe7 = sympy.symbols('SG_et, SG_w, x_et3, x_et7 ', postive = True)\n",
    "\n",
    "sge = 0.79\n",
    "sgw = 1 \n",
    "\n",
    "sge, sgw, xe3, xe7 "
   ]
  },
  {
   "cell_type": "code",
   "execution_count": 3,
   "metadata": {},
   "outputs": [],
   "source": [
    "# Stage:[1,      2,     3,     4,     5,    6,      7,     8,    9,     10,    PR]\n",
    "SG_3 = [0.881, 0.864, 0.924, 0.942, 0.953, 0.963, 0.971, 0.981, 0.986, 0.991, 0.997]\n",
    "\n",
    "SG_7 = [0.892, 0.890, 0.939, 0.959, 0.976, 0.978, 0.965, 0.968, 0.979, 0.984, 0.994]"
   ]
  },
  {
   "cell_type": "code",
   "execution_count": 4,
   "metadata": {},
   "outputs": [
    {
     "name": "stdout",
     "output_type": "stream",
     "text": [
      "x_et3 [0.508134695421870, 0.592151675485009, 0.309420737992167, 0.231624709331716, 0.185529405886174, 0.144538396874845, 0.112353489284488, 0.0728605407504488, 0.0534144692359702, 0.0341646244774398, 0.0113196733056312]\n",
      "x_et7 [0.455477258167839, 0.464954521134296, 0.244383589431513, 0.160832216098118, 0.0925058548009368, 0.0846236245009251, 0.136442141623489, 0.124360487996852, 0.0806945863125637, 0.0611691831204026, 0.0227076746191434]\n"
     ]
    }
   ],
   "source": [
    "x_et3a = []\n",
    "x_et7a = []\n",
    "\n",
    "for index,value in enumerate(SG_3):\n",
    "    x3 = sympy.solve(- 1/SG_3[index] + xe3/sge + (1-xe3)/sgw, xe3)\n",
    "    x7 = sympy.solve(- 1/SG_7[index] + xe7/sge + (1-xe7)/sgw, xe7)\n",
    "    x_et3a.append(x3[0])\n",
    "    x_et7a.append(x7[0])\n",
    "    \n",
    "\n",
    "print ('x_et3', x_et3a)\n",
    "\n",
    "print ('x_et7', x_et7a)"
   ]
  },
  {
   "cell_type": "markdown",
   "metadata": {},
   "source": [
    "# Refractive index to ethanol mass % conversion\n",
    "\n",
    "    - conversion done with table from http://www.refractometer.pl/refraction-datasheet-ethanol"
   ]
  },
  {
   "cell_type": "code",
   "execution_count": 5,
   "metadata": {},
   "outputs": [],
   "source": [
    "# Stage:[1,      2,     3,     4,     5,      6,      7,     8,     9,      10,    PR]\n",
    "RI_3 = [1.363, 1.364, 1.358, 1.355, 1.3525, 1.3494, 1.344, 1.339, 1.3375, 1.3365, 1.333]\n",
    "\n",
    "RI_7 = [1.363, 1.362, 1.355, 1.3508, 1.343, 1.342, 1.346, 1.346, 1.341, 1.339, 1.335]"
   ]
  },
  {
   "cell_type": "code",
   "execution_count": 6,
   "metadata": {},
   "outputs": [
    {
     "name": "stdout",
     "output_type": "stream",
     "text": [
      "11 11\n"
     ]
    }
   ],
   "source": [
    "x_et3b = [0.56, 0.618, 0.395, 0.338, 0.283, 0.237, 0.16, 0.095, 0.071, 0.058, 0.00]\n",
    "\n",
    "x_et7b = [0.56, 0.519, 0.338, 0.256, 0.144, 0.138, 0.186, 0.186, 0.12, 0.094, 0.036]\n",
    "\n",
    "print (len(x_et3b), len(x_et7b))"
   ]
  },
  {
   "cell_type": "markdown",
   "metadata": {},
   "source": [
    "# Average ethanol % from SG and RI"
   ]
  },
  {
   "cell_type": "code",
   "execution_count": 7,
   "metadata": {},
   "outputs": [
    {
     "name": "stdout",
     "output_type": "stream",
     "text": [
      "x_et3: [0.534067347710935, 0.605075837742504, 0.352210368996083, 0.284812354665858, 0.234264702943087, 0.190769198437423, 0.136176744642244, 0.0839302703752244, 0.0622072346179851, 0.0460823122387199, 0.00565983665281559]\n",
      "x_et7: [0.507738629083920, 0.491977260567148, 0.291191794715756, 0.208416108049059, 0.118252927400468, 0.111311812250463, 0.161221070811744, 0.155180243998426, 0.100347293156282, 0.0775845915602013, 0.0293538373095717]\n"
     ]
    }
   ],
   "source": [
    "x_et3 = []\n",
    "x_et7 = []\n",
    "\n",
    "for index,value in enumerate(x_et3a):\n",
    "    a = (x_et3a[index] + x_et3b[index])/2\n",
    "    b = (x_et7a[index] + x_et7b[index])/2\n",
    "    x_et3.append(a)\n",
    "    x_et7.append(b)\n",
    "    \n",
    "print ('x_et3:', x_et3)\n",
    "\n",
    "print ('x_et7:', x_et7)"
   ]
  },
  {
   "cell_type": "markdown",
   "metadata": {},
   "source": [
    "# Calculations"
   ]
  },
  {
   "cell_type": "markdown",
   "metadata": {},
   "source": [
    "# Steady State 1 \n",
    "### Feed @ Stage 3"
   ]
  },
  {
   "cell_type": "code",
   "execution_count": 8,
   "metadata": {},
   "outputs": [],
   "source": [
    "# Column pressure\n",
    "P1 = 4.85 # kPag\n",
    "\n",
    "# Feed\n",
    "T1 = 40.9 + 273.15 # K\n",
    "F1 = 60 # kg/h\n",
    "\n",
    "# Distillate\n",
    "D1 = 16.5 # kg/h\n",
    "# Reflux\n",
    "R1 = 24 # kg/h\n",
    "Tr1 = 45 + 273.15\n",
    "\n",
    "# Bottoms\n",
    "B1 = 43 # kg/h"
   ]
  },
  {
   "cell_type": "code",
   "execution_count": 9,
   "metadata": {},
   "outputs": [],
   "source": [
    "# Partial reboiler\n",
    "PR1 = 37.2 # kg/h\n",
    "Tpr1_in = 95 + 273.15 # K\n",
    "Tpr1_out = 96.9 + 273.15 # K\n",
    "# Bottoms condersor\n",
    "Bc1 =  127.8 # kg/h\n",
    "Tbc1_in =  18.9 + 273.15 # K\n",
    "Tbc1_out = 33.5 + 273.15 # K\n",
    "# Distillate condensor\n",
    "# Dc1 =  unknown # kg/h\n",
    "Tdc1_in = 18.9 + 273.15 # K\n",
    "Tdc1_out =  34 + 273.15 # K"
   ]
  },
  {
   "cell_type": "code",
   "execution_count": 10,
   "metadata": {},
   "outputs": [],
   "source": [
    "# stage temperatures \n",
    "T1a = 77 + 273.15 # K\n",
    "T2a = 77.98 + 273.15 # K\n",
    "T3a = 81.74 + 273.15 # K\n",
    "T4a = 82.48 + 273.15 # K\n",
    "T5a = 84.18 + 273.15 # K\n",
    "T6a = 86.61 + 273.15 # K\n",
    "T7a = 89.78 + 273.15 # K\n",
    "T8a = 92.92 + 273.15 # K\n",
    "T9a = 94.52 + 273.15 # K\n",
    "T10a = 96 + 273.15 # K"
   ]
  },
  {
   "cell_type": "code",
   "execution_count": 11,
   "metadata": {},
   "outputs": [],
   "source": [
    "# heat exchager areas\n",
    "Ad = 1 # m2\n",
    "Ab = 0.4 # m2\n",
    "Ar = 1 # m2\n",
    "\n",
    "# levels (%)\n",
    "Lrd1 = 0.5\n",
    "Lr1 = 0.33\n",
    "\n",
    "# steam P\n",
    "Ps1 = 1000 # kPag"
   ]
  },
  {
   "cell_type": "markdown",
   "metadata": {},
   "source": [
    "##### Find feed conc \n",
    "- $ x_B = x_P $\n",
    "- $ x_D = x_1 $ \n",
    "\n",
    "$$ x_F = \\frac{x_BB + x_DD}{D + B} $$"
   ]
  },
  {
   "cell_type": "code",
   "execution_count": 12,
   "metadata": {},
   "outputs": [
    {
     "data": {
      "image/png": "[encoded data removed]",
      "text/latex": [
       "$$0.15219301198826$$"
      ],
      "text/plain": [
       "0.152193011988260"
      ]
     },
     "execution_count": 12,
     "metadata": {},
     "output_type": "execute_result"
    }
   ],
   "source": [
    "Xf1 = sympy.symbols('x_F1', positive = True)\n",
    "\n",
    "xf1 = sympy.solve(Xf1*(D1 + B1) - x_et3[-1]*B1 - x_et3[0]*D1, Xf1)\n",
    "\n",
    "xf1[0]"
   ]
  },
  {
   "cell_type": "markdown",
   "metadata": {},
   "source": [
    "#### Energy balance\n",
    "\n",
    "$$ ΔH_F + Q_R = ΔH_B + ΔH_D + Q_C + Q_B + Q_L $$"
   ]
  },
  {
   "cell_type": "code",
   "execution_count": 28,
   "metadata": {},
   "outputs": [
    {
     "data": {
      "image/png": "[encoded data removed]",
      "text/latex": [
       "$$0.5$$"
      ],
      "text/plain": [
       "0.5"
      ]
     },
     "execution_count": 28,
     "metadata": {},
     "output_type": "execute_result"
    }
   ],
   "source": [
    "# differance btween in and out of tank\n",
    "diff1 = F1 - (B1 + D1)\n",
    "\n",
    "diff1\n",
    "# at SS F becomes B + D so this value is used for calculations"
   ]
  },
  {
   "cell_type": "code",
   "execution_count": 30,
   "metadata": {},
   "outputs": [
    {
     "name": "stdout",
     "output_type": "stream",
     "text": [
      "3727.49006642974 12751.9343582175 2851.08866851305 84006.8062642442 4306.53952726447 7810.573680000011\n"
     ]
    }
   ],
   "source": [
    "Cpw = 4.186 # kJ/kg.K\n",
    "Cpe = 2.57 # kJ/kg.K\n",
    "Tref = 298.15 # K\n",
    "λw = 40.65*1000/18 # kJ/kg\n",
    "λe = 841 # kJ/kg\n",
    "\n",
    "ΔHf1 = (B1 + D1)*(xf1[0]*Cpe + (1 - xf1[0])*Cpw)*(T1 - Tref)\n",
    "ΔHb1 = (B1)*(x_et3[-1]*Cpe + (1 - x_et3[-1])*Cpw)*(T10a - Tref)\n",
    "ΔHd1 = (D1)*(x_et3[0]*Cpe + (1 - x_et3[0])*Cpw)*(T1a - Tref)\n",
    "Qr1 = (PR1)*(x_et3[-1]*Cpe + (1 - x_et3[-1])*Cpw)*(Tpr1_out - Tpr1_in) + (PR1)*((x_et3[-1]*λe + (1 - x_et3[-1])*λw))\n",
    "Qc1 = - (D1 + R1)*(x_et3[0]*Cpe + (1 - x_et3[0])*Cpw)*(Tr1 - T1a)\n",
    "Qb1 = (Bc1)*(Cpw)*(Tbc1_out - Tbc1_in)\n",
    "\n",
    "print (ΔHf1, ΔHb1, ΔHd1, Qr1, Qc1, Qb1)"
   ]
  },
  {
   "cell_type": "code",
   "execution_count": 39,
   "metadata": {},
   "outputs": [
    {
     "name": "stdout",
     "output_type": "stream",
     "text": [
      "Qloss = 60014.1600966789 kJ/h\n"
     ]
    }
   ],
   "source": [
    "Ql1 = sympy.symbols('Q_l1', positive = True)\n",
    "\n",
    "sol1 = sympy.solve(ΔHf1 - ΔHb1 - ΔHd1 + Qr1 - Qc1 - Qb1 - Ql1, Ql1)\n",
    "\n",
    "print ('Qloss =', sol1[0], 'kJ/h')"
   ]
  },
  {
   "cell_type": "markdown",
   "metadata": {},
   "source": [
    "### Calculations of other important parameters/values of the system"
   ]
  },
  {
   "cell_type": "code",
   "execution_count": 43,
   "metadata": {},
   "outputs": [
    {
     "name": "stdout",
     "output_type": "stream",
     "text": [
      "Q loss of BC 0.0 kJ/h\n"
     ]
    }
   ],
   "source": [
    "# Q loss of just the bottoms condensor\n",
    "Qb1b = (Bc1)*Cpw*(Tbc1_out - Tbc1_in)\n",
    "\n",
    "Ql_bc = abs(Qb1b - Qb1)\n",
    "\n",
    "print ('Q loss of BC', Ql_bc, 'kJ/h')"
   ]
  },
  {
   "cell_type": "markdown",
   "metadata": {},
   "source": [
    "so it is assumed that the other conderser and the reboiler also has zero or neglegiable heat loss"
   ]
  },
  {
   "cell_type": "code",
   "execution_count": 46,
   "metadata": {},
   "outputs": [
    {
     "name": "stdout",
     "output_type": "stream",
     "text": [
      "Mass flow of utility water: 68.1321770655332 kg/h\n"
     ]
    }
   ],
   "source": [
    "# Mass flow of cooling water for the distilate condenser\n",
    "mw1 = sympy.symbols('m_w1', positive = True)\n",
    "\n",
    "W1 = sympy.solve(Qc1 - mw1*(Cpw)*(Tdc1_out - Tdc1_in), mw1)\n",
    "\n",
    "print ('Mass flow of utility water:', W1[0], 'kg/h')"
   ]
  },
  {
   "cell_type": "code",
   "execution_count": 79,
   "metadata": {},
   "outputs": [
    {
     "name": "stdout",
     "output_type": "stream",
     "text": [
      "Mass flow of steam: 238.740371057293 kg/h\n"
     ]
    }
   ],
   "source": [
    "# Mass flow of steam in reboiler\n",
    "ms1 = sympy.symbols('m_s1', positive = True)\n",
    "\n",
    "Tin = 453 # K (Tsat of steam at 1000kPa)\n",
    "Tout = 368.94 # K (Tsat of steam at 87kPa)\n",
    "\n",
    "S1 = sympy.solve(Qr1 + ms1*Cpw*(Tout - Tin), ms1)\n",
    "\n",
    "print ('Mass flow of steam:', S1[0], 'kg/h')"
   ]
  },
  {
   "cell_type": "code",
   "execution_count": 86,
   "metadata": {},
   "outputs": [
    {
     "name": "stdout",
     "output_type": "stream",
     "text": [
      "T of bottoms to feed: 62.3875773119584 K\n"
     ]
    }
   ],
   "source": [
    "# T of bottoms at condenser exit\n",
    "t1 = sympy.symbols('T1', positive = True)\n",
    "\n",
    "Tbc1 = sympy.solve(Qb1 - B1*(Cpe*x_et3[-1] + (1 - x_et3[-1])*Cpw)*(t1 - Tbc1_in), t1)\n",
    "\n",
    "print ('T of bottoms to feed:', Tbc1[0] - 273.15, 'K')"
   ]
  },
  {
   "cell_type": "code",
   "execution_count": 68,
   "metadata": {},
   "outputs": [
    {
     "name": "stdout",
     "output_type": "stream",
     "text": [
      "overall heat transfer coeff: 37.3831556186153 W/m2.K\n"
     ]
    }
   ],
   "source": [
    "# overall heat transfer co-eff (U) distilate condenser\n",
    "u1 = sympy.symbols('U1', positive = True)\n",
    "\n",
    "U1 = sympy.solve(Qc1*(1000/3600) + u1*Ad*(Tr1 - T1a), u1)\n",
    "\n",
    "print ('overall heat transfer coeff:', U1[0], 'W/m2.K')"
   ]
  },
  {
   "cell_type": "code",
   "execution_count": 96,
   "metadata": {},
   "outputs": [
    {
     "name": "stdout",
     "output_type": "stream",
     "text": [
      "overall heat transfer coeff: 166.317281972089 W/m2.K\n"
     ]
    }
   ],
   "source": [
    "# overall heat transfer co-eff (U) bottoms condenser\n",
    "u1b = sympy.symbols('U1b', positive = True)\n",
    "\n",
    "U1b = sympy.solve(Qb1*(1000/3600) + u1b*Ab*(Tbc1[0] - Tpr1_in), u1b)\n",
    "\n",
    "print ('overall heat transfer coeff:', U1b[0], 'W/m2.K')"
   ]
  },
  {
   "cell_type": "code",
   "execution_count": 76,
   "metadata": {},
   "outputs": [
    {
     "name": "stdout",
     "output_type": "stream",
     "text": [
      "overall heat transfer coeff: 12281.6968222579 W/m2.K\n"
     ]
    }
   ],
   "source": [
    "# overall heat transfer co-eff (U) reboiler\n",
    "u1r = sympy.symbols('U1r', positive = True)\n",
    "\n",
    "U1r = sympy.solve(Qr1*(1000/3600) - u1r*Ar*(Tpr1_out - Tpr1_in), u1r)\n",
    "\n",
    "print ('overall heat transfer coeff:', U1r[0], 'W/m2.K')"
   ]
  },
  {
   "cell_type": "markdown",
   "metadata": {},
   "source": [
    "# Steady State 2 \n",
    "### Feed @ Stage 7"
   ]
  },
  {
   "cell_type": "code",
   "execution_count": 13,
   "metadata": {},
   "outputs": [],
   "source": [
    "# Column pressure\n",
    "P2 = 4.6 # kPag\n",
    "\n",
    "# Feed\n",
    "T2 = 40.7 + 273.15 # K\n",
    "F2 = 70 # kg/h\n",
    "\n",
    "# Distillate\n",
    "D2 = 26 # kg/h\n",
    "# Reflux\n",
    "R2 = 19 # kg/h\n",
    "Tr2 = 44 + 273.15\n",
    "\n",
    "# Bottoms\n",
    "B2 = 47 # kg/h"
   ]
  },
  {
   "cell_type": "code",
   "execution_count": 14,
   "metadata": {},
   "outputs": [],
   "source": [
    "# Partial reboiler\n",
    "PR2 = 30 # kg/h\n",
    "Tpr2_in = 92 + 273.15 # K\n",
    "Tpr2_out = 96.6 + 273.15 # K\n",
    "# Bottoms conderser\n",
    "Bc2 =  128 # kg/h\n",
    "Tbc2_in =  19.2 + 273.15 # K\n",
    "Tbc2_out = 30 + 273.15 # K\n",
    "# Distillate condenser\n",
    "# Dc2 =  unknown # kg/h\n",
    "Tdc2_in = 19.2 + 273.15 # K\n",
    "Tdc2_out =  36 + 273.15 # K"
   ]
  },
  {
   "cell_type": "code",
   "execution_count": 15,
   "metadata": {},
   "outputs": [],
   "source": [
    "# stage temperatures \n",
    "T1b = 77.5 + 273.15 # K\n",
    "T2b = 79.72 + 273.15 # K\n",
    "T3b = 83.6 + 273.15 # K\n",
    "T4b = 85.8 + 273.15 # K\n",
    "T5b = 86.7 + 273.15 # K\n",
    "T6b = 87.4 + 273.15 # K\n",
    "T7b = 83 + 273.15 # K\n",
    "T8b = 87.85 + 273.15 # K\n",
    "T9b = 90.7 + 273.15 # K\n",
    "T10b = 93.8 + 273.15 # K"
   ]
  },
  {
   "cell_type": "code",
   "execution_count": 16,
   "metadata": {},
   "outputs": [],
   "source": [
    "# heat exchager areas\n",
    "Ad = 1 # m2\n",
    "Ab = 0.4 # m2\n",
    "Ar = 1 # m2\n",
    "\n",
    "# levels (%)\n",
    "Lrd2 = 0.3\n",
    "Lr2 = 0\n",
    "\n",
    "# steam P\n",
    "Ps2 = 969 # kPag"
   ]
  },
  {
   "cell_type": "markdown",
   "metadata": {},
   "source": [
    "##### Find feed conc \n",
    "- $ x_B = x_P $\n",
    "- $ x_D = x_1 $ \n",
    "\n",
    "$$ x_F = \\frac{x_BB + x_DD}{D + B} $$"
   ]
  },
  {
   "cell_type": "code",
   "execution_count": 18,
   "metadata": {},
   "outputs": [
    {
     "data": {
      "image/png": "[encoded data removed]",
      "text/latex": [
       "$$0.199737461777148$$"
      ],
      "text/plain": [
       "0.199737461777148"
      ]
     },
     "execution_count": 18,
     "metadata": {},
     "output_type": "execute_result"
    }
   ],
   "source": [
    "Xf2 = sympy.symbols('x_F2', positive = True)\n",
    "\n",
    "xf2 = sympy.solve(Xf2*(D2 + B2) - x_et7[-1]*B2 - x_et7[0]*D2, Xf2)\n",
    "\n",
    "xf2[0]"
   ]
  },
  {
   "cell_type": "markdown",
   "metadata": {},
   "source": [
    "#### Energy balances\n",
    "\n",
    "$$ ΔH_F + Q_R = ΔH_B + ΔH_D + Q_C + Q_B + Q_L $$"
   ]
  },
  {
   "cell_type": "code",
   "execution_count": 29,
   "metadata": {},
   "outputs": [
    {
     "data": {
      "image/png": "[encoded data removed]",
      "text/latex": [
       "$$-3$$"
      ],
      "text/plain": [
       "-3"
      ]
     },
     "execution_count": 29,
     "metadata": {},
     "output_type": "execute_result"
    }
   ],
   "source": [
    "# differance btween in and out of tank\n",
    "diff2 = F2 - (B2 + D2)\n",
    "\n",
    "diff2\n",
    "# at SS F becomes B + D so this value is used for calculations"
   ]
  },
  {
   "cell_type": "code",
   "execution_count": 31,
   "metadata": {},
   "outputs": [
    {
     "name": "stdout",
     "output_type": "stream",
     "text": [
      "4427.64132641245 13382.4611935880 4593.89982242153 67072.9966970463 5073.48277091608 5786.726400000006\n"
     ]
    }
   ],
   "source": [
    "Cpw = 4.186 # kJ/kg.K\n",
    "Cpe = 2.57 # kJ/kg.K\n",
    "Tref = 298.15 # K\n",
    "λw = 40.65*1000/18 # kJ/kg\n",
    "λe = 841 # kJ/kg\n",
    "\n",
    "ΔHf2 = (B2 + D2)*(xf2[0]*Cpe + (1 - xf2[0])*Cpw)*(T2 - Tref)\n",
    "ΔHb2 = (B2)*(x_et7[-1]*Cpe + (1 - x_et7[-1])*Cpw)*(T10b - Tref)\n",
    "ΔHd2 = (D2)*(x_et7[0]*Cpe + (1 - x_et7[0])*Cpw)*(T1b - Tref)\n",
    "Qr2 = (PR2)*(x_et7[-1]*Cpe + (1 - x_et7[-1])*Cpw)*(Tpr2_out - Tpr2_in) + (PR2)*((x_et7[-1]*λe + (1 - x_et7[-1])*λw))\n",
    "Qc2 = - (D2 + R2)*(x_et7[0]*Cpe + (1 - x_et7[0])*Cpw)*(Tr2 - T1b)\n",
    "Qb2 = (Bc2)*(Cpw)*(Tbc2_out - Tbc2_in)\n",
    "\n",
    "print (ΔHf2, ΔHb2, ΔHd2, Qr2, Qc2, Qb2)"
   ]
  },
  {
   "cell_type": "code",
   "execution_count": 38,
   "metadata": {},
   "outputs": [
    {
     "name": "stdout",
     "output_type": "stream",
     "text": [
      "Qloss = 42664.0678365331 kJ/h\n"
     ]
    }
   ],
   "source": [
    "Ql2 = sympy.symbols('Q_l2', positive = True)\n",
    "\n",
    "sol2 = sympy.solve(ΔHf2 - ΔHb2 - ΔHd2 + Qr2 - Qc2 - Qb2 - Ql2, Ql2)\n",
    "\n",
    "print ('Qloss =', sol2[0], 'kJ/h')"
   ]
  },
  {
   "cell_type": "markdown",
   "metadata": {},
   "source": [
    "### Calculations of other important parameters of the system"
   ]
  },
  {
   "cell_type": "code",
   "execution_count": 44,
   "metadata": {},
   "outputs": [
    {
     "name": "stdout",
     "output_type": "stream",
     "text": [
      "Q loss of BC 0.0 kJ/h\n"
     ]
    }
   ],
   "source": [
    "# Q loss of just the bottoms condensor\n",
    "Qb2b = (Bc2)*Cpw*(Tbc2_out - Tbc2_in)\n",
    "\n",
    "Ql2_bc = abs(Qb2b - Qb2)\n",
    "\n",
    "print ('Q loss of BC', Ql2_bc, 'kJ/h')"
   ]
  },
  {
   "cell_type": "markdown",
   "metadata": {},
   "source": [
    "so it is assumed that the other conderser and the reboiler also has zero or neglegiable heat loss"
   ]
  },
  {
   "cell_type": "code",
   "execution_count": 77,
   "metadata": {},
   "outputs": [
    {
     "name": "stdout",
     "output_type": "stream",
     "text": [
      "Mass flow of utility water: 72.1435790918151 kg/h\n"
     ]
    }
   ],
   "source": [
    "# Mass flow of cooling water for the distilate condenser\n",
    "mw2 = sympy.symbols('m_w2', positive = True)\n",
    "\n",
    "W2 = sympy.solve(Qc2 - mw2*(Cpw)*(Tdc2_out - Tdc2_in), mw2)\n",
    "\n",
    "print ('Mass flow of utility water:', W2[0], 'kg/h')"
   ]
  },
  {
   "cell_type": "code",
   "execution_count": 80,
   "metadata": {},
   "outputs": [
    {
     "name": "stdout",
     "output_type": "stream",
     "text": [
      "Mass flow of steam: 238.740371057293 kg/h\n"
     ]
    }
   ],
   "source": [
    "# Mass flow of steam in reboiler\n",
    "ms2 = sympy.symbols('m_s2', positive = True)\n",
    "\n",
    "Tin2 = 451.605 # K (Tsat of steam at 969kPa)\n",
    "Tout2 = 368.94 # K (Tsat of steam at 87kPa)\n",
    "\n",
    "S2 = sympy.solve(Qr2 + ms2*Cpw*(Tout2 - Tin2), ms2)\n",
    "\n",
    "print ('Mass flow of steam:', S1[0], 'kg/h')"
   ]
  },
  {
   "cell_type": "code",
   "execution_count": 87,
   "metadata": {},
   "outputs": [
    {
     "name": "stdout",
     "output_type": "stream",
     "text": [
      "T of bottoms to feed: 322.099892083435 K\n"
     ]
    }
   ],
   "source": [
    "# T of bottoms at condenser exit\n",
    "t2 = sympy.symbols('T2', positive = True)\n",
    "\n",
    "Tbc2 = sympy.solve(Qb2 - B2*(Cpe*x_et7[-1] + (1 - x_et7[-1])*Cpw)*(t2 - Tbc2_in), t2)\n",
    "\n",
    "print ('T of bottoms to feed:', Tbc2[0], 'K')"
   ]
  },
  {
   "cell_type": "code",
   "execution_count": 88,
   "metadata": {},
   "outputs": [
    {
     "name": "stdout",
     "output_type": "stream",
     "text": [
      "overall heat transfer coeff: 41.4744193554712 W/m2.K\n"
     ]
    }
   ],
   "source": [
    "# overall heat transfer co-eff (U) distilate condenser\n",
    "u2 = sympy.symbols('U2', positive = True)\n",
    "\n",
    "U2 = sympy.solve(Qc2*(1000/3600) + u2*Ad*(Tr2 - T2a), u2)\n",
    "\n",
    "print ('overall heat transfer coeff:', U2[0], 'W/m2.K')"
   ]
  },
  {
   "cell_type": "code",
   "execution_count": 95,
   "metadata": {},
   "outputs": [
    {
     "name": "stdout",
     "output_type": "stream",
     "text": [
      "overall heat transfer coeff: 93.3461074659408 W/m2.K\n"
     ]
    }
   ],
   "source": [
    "# overall heat transfer co-eff (U) bottoms condenser\n",
    "u2b = sympy.symbols('U2b', positive = True)\n",
    "\n",
    "U2b = sympy.solve(Qb2*(1000/3600) + u2b*Ab*(Tbc2[0] - Tpr2_in), u2b)\n",
    "\n",
    "print ('overall heat transfer coeff:', U2b[0], 'W/m2.K')"
   ]
  },
  {
   "cell_type": "code",
   "execution_count": 97,
   "metadata": {},
   "outputs": [
    {
     "name": "stdout",
     "output_type": "stream",
     "text": [
      "overall heat transfer coeff: 4050.30173291341 W/m2.K\n"
     ]
    }
   ],
   "source": [
    "# overall heat transfer co-eff (U) reboiler\n",
    "u2r = sympy.symbols('U2r', positive = True)\n",
    "\n",
    "U2r = sympy.solve(Qr2*(1000/3600) - u2r*Ar*(Tpr2_out - Tpr2_in), u2r)\n",
    "\n",
    "print ('overall heat transfer coeff:', U2r[0], 'W/m2.K')"
   ]
  },
  {
   "cell_type": "code",
   "execution_count": null,
   "metadata": {},
   "outputs": [],
   "source": []
  }
 ],
 "metadata": {
  "kernelspec": {
   "display_name": "Python 3",
   "language": "python",
   "name": "python3"
  },
  "language_info": {
   "codemirror_mode": {
    "name": "ipython",
    "version": 3
   },
   "file_extension": ".py",
   "mimetype": "text/x-python",
   "name": "python",
   "nbconvert_exporter": "python",
   "pygments_lexer": "ipython3",
   "version": "3.7.3"
  }
 },
 "nbformat": 4,
 "nbformat_minor": 2
}
