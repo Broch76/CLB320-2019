{
 "cells": [
  {
   "cell_type": "markdown",
   "metadata": {},
   "source": [
    "## Anaerobic growth of _Saccharomyces cerevisiae_\n",
    "\n",
    "<img src=\"Y1.png\" width=\"800\" />"
   ]
  },
  {
   "cell_type": "markdown",
   "metadata": {},
   "source": [
    "Please note to **only use the following units on your presentation:**\n",
    "\n",
    "|$\\mu \\qquad \\qquad$|$\\theta \\qquad \\qquad $|$C_{ET} \\qquad \\qquad $|$Q_{CO_2} \\qquad \\qquad $|$r_i \\qquad \\qquad $\n",
    "|-|-|-|-|-\n",
    "|$\\frac{1}{h}$|$\\frac{mol \\, ATP}{cmol \\, X \\cdot h} $|$\\frac{g}{L} $|$\\frac{mL}{min}$|$\\frac{cmol }{cmol \\,X \\cdot h} $"
   ]
  },
  {
   "cell_type": "markdown",
   "metadata": {},
   "source": [
    "### Assignment of experiment\n",
    "\n",
    "The conditions of each experiment is given in the table below:\n",
    "\n",
    "<img src=\"Extable.png\" width=\"600\" />"
   ]
  },
  {
   "cell_type": "markdown",
   "metadata": {},
   "source": [
    "### What are we investigating?\n",
    "\n",
    "In this experiment we will be looking at how fast _Saccharomyces cerevisiae_ (we call her _Cery_ in our lab) grows and also at the amount of energy required to sustain the growth. Different external conditions (fermenter concentrations) will be employed to see how it affects the growth and energy requirements of _Cery_. \n",
    "\n",
    "Start by fitting a constant 𝜇 on the data. Be careful in using time zero as the starting point for the fit since the first hour of fermentation is slower due to the organism waking up. Given the fitted 𝜇, calculate the CO₂ production rate in ml/min. Plot this 'model' on the CO₂ data and vary 𝛾 to improve the fit. Start by allowing for a contant 𝛾 over the duration of the run. \n",
    "\n",
    "After this you should model the fermentation CBI310 style. Test whether the constant 𝜇 and 𝛾 assumption is correct. What is the effect of ethanol formed during the reaction.\n",
    "\n",
    "Ensure that you have your numbers (𝜇 and 𝛾) ready when called upon."
   ]
  },
  {
   "cell_type": "markdown",
   "metadata": {},
   "source": [
    "### Theoretical background\n",
    "\n",
    "Under anaerobic conditions _Cery_ produces mainly ethanol as catabolic excretion product (there will be a small amount of glycerol to balance the NADH. The flux model of the system is supplied below:\n",
    "\n",
    "<img src=\"etmap.png\" width=\"680\" />\n",
    "\n",
    "We'll use the following physiological parameters:\n",
    "\n",
    "|$\\alpha $|$\\beta $|$\\theta $\n",
    "|-|-|-\n",
    "|$\\frac{\\text{cmol $CO_2$}}{\\text{cmol X}}$|$\\frac{\\text{mol NADH}}{\\text{cmol X}}$|$\\frac{\\text{mol ATP}}{\\text{cmol X} \\cdot \\text{h}}$\n",
    "|0.1|0.1|0.05\n",
    "\n",
    "The biomass formula is given by $CH_{1.8}O_{0.5}N_{0.2}$\n",
    "\n",
    "Ensure to set up a matrix of the flux model before entering the lab. \n",
    "\n",
    "Your experiment will entail measuring the volumetric rate of $CO_2$ production ($\\frac{mL}{min}$) and the biomass amount ($\\frac{g}{L}$) in the fermentation broth. This will enable calculation of $r_{CO_2}$ by using the ideal gas law. Assume that $CO_2$ in the glass pipette is at 25°C.\n",
    "\n",
    "For the growth experiments the biomass concentration will be measured 5 times during the experiment. You will be able to observe the increase in biomass. For starters you will try to fit a constant $\\mu$ to the growth data (remember the CBI310 exam 😉). Given $\\mu$ and $r_{CO_2}$ data, you will be able to investigate the value of $\\gamma$. Tip: Start by assuming a constant value of $\\mu$ during the batch run before allowing for variations in $\\mu$ during the run. "
   ]
  },
  {
   "cell_type": "code",
   "execution_count": 218,
   "metadata": {},
   "outputs": [],
   "source": [
    "import numpy\n",
    "from matplotlib import pyplot as plt\n",
    "%matplotlib inline"
   ]
  },
  {
   "cell_type": "code",
   "execution_count": 219,
   "metadata": {},
   "outputs": [],
   "source": [
    "α = 0.10 #cmolCO2/cmolX\n",
    "β = 0.10 #molNADH/cmolX\n",
    "θ = 0.05 #molATP/cmolX.h "
   ]
  },
  {
   "cell_type": "code",
   "execution_count": 220,
   "metadata": {},
   "outputs": [],
   "source": [
    "from numpy import array"
   ]
  },
  {
   "cell_type": "code",
   "execution_count": 221,
   "metadata": {},
   "outputs": [],
   "source": [
    "data = array([[0,0.6],\n",
    "              [1.5, 0.8482],\n",
    "              [2.5, 0.9537],\n",
    "              [3.5, 1.3007],\n",
    "              [4.5, 1.6067],\n",
    "              [5.5, 2.0595]])"
   ]
  },
  {
   "cell_type": "code",
   "execution_count": 222,
   "metadata": {},
   "outputs": [],
   "source": [
    "texp = data[:,0]\n",
    "Cxexp = data[:,1]"
   ]
  },
  {
   "cell_type": "code",
   "execution_count": 223,
   "metadata": {},
   "outputs": [
    {
     "data": {
      "image/png": "[encoded data removed]",
      "text/plain": [
       "<Figure size 432x288 with 1 Axes>"
      ]
     },
     "metadata": {
      "needs_background": "light"
     },
     "output_type": "display_data"
    }
   ],
   "source": [
    "plt.plot(texp, Cxexp, '-', label = 'Concentration Profile')\n",
    "plt.axis([0,6,0,3])\n",
    "plt.legend(loc='best')\n",
    "plt.ylabel(\"Concentration $g/L$\")\n",
    "plt.xlabel(\"Time $hours$\")\n",
    "plt.show()"
   ]
  },
  {
   "cell_type": "code",
   "execution_count": 224,
   "metadata": {},
   "outputs": [],
   "source": [
    "μ = 0.26\n",
    "\n",
    "def conc(C, t):\n",
    "    C = C[0]\n",
    "    return [μ*C]"
   ]
  },
  {
   "cell_type": "markdown",
   "metadata": {},
   "source": [
    "Given the experimental data, the yeast provided may not have been pure, therefore, I varied the initial concentration of the yeast (Cxo) and then change the mu until the best fit resulted. At Cx0 = 0.5 and mu = 0.26, the best fit resulted."
   ]
  },
  {
   "cell_type": "code",
   "execution_count": 225,
   "metadata": {},
   "outputs": [],
   "source": [
    "from numpy import linspace\n",
    "from scipy.integrate import odeint"
   ]
  },
  {
   "cell_type": "code",
   "execution_count": 226,
   "metadata": {},
   "outputs": [],
   "source": [
    "tspan = linspace(0, 6, 100)\n",
    "\n",
    "vals = odeint(conc, 0.5, tspan)"
   ]
  },
  {
   "cell_type": "code",
   "execution_count": 227,
   "metadata": {},
   "outputs": [
    {
     "data": {
      "image/png": "[encoded data removed]",
      "text/plain": [
       "<Figure size 432x288 with 1 Axes>"
      ]
     },
     "metadata": {
      "needs_background": "light"
     },
     "output_type": "display_data"
    }
   ],
   "source": [
    "plt.figure(1)\n",
    "plt.plot(tspan, vals, '-', texp, Cxexp, '*')\n",
    "plt.axis([0, 6, 0, 3])\n",
    "plt.ylabel(\"Concentration $g/L$\")\n",
    "plt.xlabel(\"Time $hours$\")\n",
    "plt.show()"
   ]
  },
  {
   "cell_type": "code",
   "execution_count": 228,
   "metadata": {},
   "outputs": [],
   "source": [
    "# rCo2 [mL/min]\n",
    "DataCO2 = array([[75, 2.60],\n",
    "                 [105, 3.00],\n",
    "                 [135, 3.70],\n",
    "                 [165, 4.00],\n",
    "                 [195, 4.70],\n",
    "                 [225, 5.20],\n",
    "                 [255, 6.10],\n",
    "                 [285, 7.10],\n",
    "                 [315, 8.10]])"
   ]
  },
  {
   "cell_type": "code",
   "execution_count": 229,
   "metadata": {},
   "outputs": [],
   "source": [
    "texp1 = DataCO2[:,0]\n",
    "rCexp = DataCO2[:,1]\n"
   ]
  },
  {
   "cell_type": "code",
   "execution_count": 230,
   "metadata": {
    "scrolled": true
   },
   "outputs": [
    {
     "data": {
      "image/png": "[encoded data removed]",
      "text/plain": [
       "<Figure size 432x288 with 1 Axes>"
      ]
     },
     "metadata": {
      "needs_background": "light"
     },
     "output_type": "display_data"
    }
   ],
   "source": [
    "plt.figure(2)\n",
    "plt.plot(texp1, rCexp, '-', label = 'CO2 rate Profile')\n",
    "plt.axis([0, 350, 0, 12])\n",
    "plt.legend(loc='best')\n",
    "plt.ylabel(\"rCO2 $mL/min$\")\n",
    "plt.xlabel(\"Time $minutes$\")\n",
    "plt.show()"
   ]
  },
  {
   "cell_type": "code",
   "execution_count": 231,
   "metadata": {},
   "outputs": [
    {
     "name": "stdout",
     "output_type": "stream",
     "text": [
      "2.3333333333333335\n"
     ]
    },
    {
     "data": {
      "text/plain": [
       "30"
      ]
     },
     "execution_count": 231,
     "metadata": {},
     "output_type": "execute_result"
    }
   ],
   "source": [
    "MMgluc = 12 + 2 + 16 #(cmol/g)\n",
    "cmols = 35 / MMgluc\n",
    "Cso = cmols/0.5 #35 grams of glucose was in the broth\n",
    "print(Cso)\n",
    "MMgluc"
   ]
  },
  {
   "cell_type": "code",
   "execution_count": 232,
   "metadata": {},
   "outputs": [
    {
     "name": "stdout",
     "output_type": "stream",
     "text": [
      "0.048780487804878044\n"
     ]
    },
    {
     "data": {
      "text/plain": [
       "24.6"
      ]
     },
     "execution_count": 232,
     "metadata": {},
     "output_type": "execute_result"
    }
   ],
   "source": [
    "MMx = 12 + 1.8 + 8 + (0.2*14)\n",
    "cmolx = 0.6 / MMx #this amount was used for the mu fitting above\n",
    "Cxo = cmolx/0.5\n",
    "print(Cxo)\n",
    "MMx"
   ]
  },
  {
   "cell_type": "code",
   "execution_count": 255,
   "metadata": {},
   "outputs": [],
   "source": [
    "γ = 5"
   ]
  },
  {
   "cell_type": "code",
   "execution_count": 256,
   "metadata": {},
   "outputs": [],
   "source": [
    "def response(C):\n",
    "    Cx, Cs, Cdhap, Cgly, Cet = C\n",
    "    \n",
    "    A = numpy.matrix([[-1, 1 + α,    1,    0,   0],\n",
    "                     [  0,     0,   -1,    1, 1.5],\n",
    "                     [  0,     β,    0, -1/3,   0],\n",
    "                     [  0,    -γ, -1/3,    0,   1],\n",
    "                     [  0,     1,    0,    0,   0]])\n",
    "    \n",
    "    b = numpy.matrix([0, 0, 0, θ, μ]).T\n",
    "    r = numpy.linalg.solve(A, b)\n",
    "    \n",
    "    return[r[1,0],   # biomass\n",
    "          -r[0,0],   # glucose, negative since flux calculates -rs \n",
    "           r[2,0],   # DHAP\n",
    "           r[3,0],   # Glycerol\n",
    "           r[4,0]]   # Ethanol\n",
    "           #r[5,0]]   # CO2\n"
   ]
  },
  {
   "cell_type": "code",
   "execution_count": 257,
   "metadata": {},
   "outputs": [],
   "source": [
    "def ferm(C,t):\n",
    "    Cx, Cs, Cdhap, Cgly, Cet = C\n",
    "    r=response([Cx, Cs, Cdhap, Cgly, Cet])\n",
    "    \n",
    "    return [r[0]*Cx,\n",
    "            r[1]*Cx,\n",
    "            r[2]*Cx,\n",
    "            r[3]*Cx,\n",
    "            r[4]*Cx]\n",
    "            #r[5]*Cx]"
   ]
  },
  {
   "cell_type": "code",
   "execution_count": 258,
   "metadata": {},
   "outputs": [
    {
     "data": {
      "text/plain": [
       "[0.048780487804878044, 2.3333333333333335, 0, 0, 0]"
      ]
     },
     "execution_count": 258,
     "metadata": {},
     "output_type": "execute_result"
    }
   ],
   "source": [
    "Co = [Cxo, Cso, 0, 0, 0]\n",
    "Co"
   ]
  },
  {
   "cell_type": "code",
   "execution_count": 259,
   "metadata": {
    "scrolled": true
   },
   "outputs": [
    {
     "data": {
      "text/plain": [
       "[0.26000000000000006,\n",
       " -4.492000000000001,\n",
       " 4.206,\n",
       " 0.07800000000000003,\n",
       " 2.7520000000000002]"
      ]
     },
     "execution_count": 259,
     "metadata": {},
     "output_type": "execute_result"
    }
   ],
   "source": [
    "test = response(Co)\n",
    "test"
   ]
  },
  {
   "cell_type": "code",
   "execution_count": 260,
   "metadata": {},
   "outputs": [],
   "source": [
    "tspan2 = linspace(0, 6, 100)\n",
    "\n",
    "C = odeint(ferm, Co, tspan2)\n",
    "\n",
    "Cx, Cs, Cdhap, Cgly, Cet = C.T\n"
   ]
  },
  {
   "cell_type": "code",
   "execution_count": 261,
   "metadata": {},
   "outputs": [],
   "source": [
    "from numpy import asarray"
   ]
  },
  {
   "cell_type": "code",
   "execution_count": 262,
   "metadata": {},
   "outputs": [],
   "source": [
    "r = asarray([response(C) for C in C])\n",
    "\n",
    "rx    =  r[:,0]\n",
    "rs    = -r[:,1]\n",
    "rdhap =  r[:,2]\n",
    "rgly  =  r[:,3]\n",
    "ret   =  r[:,4]"
   ]
  },
  {
   "cell_type": "code",
   "execution_count": 263,
   "metadata": {},
   "outputs": [],
   "source": [
    "R = 8.314\n",
    "P = 87\n",
    "T = 298.15\n",
    "\n",
    "rCO2 = α*rx + 0.5*ret\n",
    "VCO2 = (rCO2 * Cx)* R * T / P"
   ]
  },
  {
   "cell_type": "code",
   "execution_count": 264,
   "metadata": {},
   "outputs": [
    {
     "data": {
      "image/png": "[encoded data removed]",
      "text/plain": [
       "<Figure size 432x288 with 1 Axes>"
      ]
     },
     "metadata": {
      "needs_background": "light"
     },
     "output_type": "display_data"
    }
   ],
   "source": [
    "plt.figure(3)\n",
    "plt.plot(tspan2*350/6, VCO2, '-', label='CO2') \n",
    "plt.plot(texp1, rCexp, '*', label='CO2 experiment')\n",
    "plt.axis([0, 350, 0, 10])\n",
    "plt.legend(loc='best')\n",
    "plt.ylabel('Rate of CO2 produced $mL/min$')\n",
    "plt.xlabel('Time $minutes$')\n",
    "plt.show()"
   ]
  },
  {
   "cell_type": "code",
   "execution_count": null,
   "metadata": {},
   "outputs": [],
   "source": []
  }
 ],
 "metadata": {
  "kernelspec": {
   "display_name": "Python 3",
   "language": "python",
   "name": "python3"
  },
  "language_info": {
   "codemirror_mode": {
    "name": "ipython",
    "version": 3
   },
   "file_extension": ".py",
   "mimetype": "text/x-python",
   "name": "python",
   "nbconvert_exporter": "python",
   "pygments_lexer": "ipython3",
   "version": "3.7.3"
  }
 },
 "nbformat": 4,
 "nbformat_minor": 2
}
