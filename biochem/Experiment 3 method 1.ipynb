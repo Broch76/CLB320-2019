{
 "cells": [
  {
   "cell_type": "code",
   "execution_count": 31,
   "metadata": {},
   "outputs": [],
   "source": [
    "import numpy\n",
    "import matplotlib.pyplot as plt\n",
    "from scipy.integrate import odeint\n",
    "import scipy.optimize\n",
    "%matplotlib inline\n",
    "from numpy import asarray"
   ]
  },
  {
   "cell_type": "code",
   "execution_count": 32,
   "metadata": {},
   "outputs": [],
   "source": [
    "# t1 is for Cx and t2 is for rCO2 (both are in hours)\n",
    "t1 = numpy.array([1.5, 2.5, 3.5, 4.5, 5.5])\n",
    "t2 = [1.25, 1.75, 2.25, 2.75, 3.25, 3.75, 4.25, 4.75, 5.25] "
   ]
  },
  {
   "cell_type": "code",
   "execution_count": 33,
   "metadata": {},
   "outputs": [],
   "source": [
    "# A1\n",
    "Cx_A = [0.8482, 0.9537, 1.3007, 1.6067, 2.0595] # g/L\n",
    "rco2_A = [2.60, 3.00, 3.70, 4.00, 4.70, 5.20, 6.10, 7.10, 8.10] # ml/min"
   ]
  },
  {
   "cell_type": "code",
   "execution_count": 34,
   "metadata": {},
   "outputs": [],
   "source": [
    "# B1\n",
    "Cx_B = [1.0805, 1.2477, 1.5965, 1.9085, 2.3736] # g/L\n",
    "rco2_B = [3.20, 3.68, 4.23, 5.67, 8.098, 7.8, 7.88, 7.6, 7.3] # ml/min"
   ]
  },
  {
   "cell_type": "code",
   "execution_count": 35,
   "metadata": {},
   "outputs": [],
   "source": [
    "# C1\n",
    "Cx_C = [1.8127, 2.0228, 2.0248, 2.3736, 2.6795] # g/L\n",
    "rco2_C = [12, 11, 10.5, 6.65, 7.2, 7.619, 8.2759, 9.166, 9.68] # ml/min"
   ]
  },
  {
   "cell_type": "code",
   "execution_count": 36,
   "metadata": {},
   "outputs": [
    {
     "data": {
      "text/plain": [
       "[0.96435, 1.1007, 1.4485999999999999, 1.7576, 2.21655]"
      ]
     },
     "execution_count": 36,
     "metadata": {},
     "output_type": "execute_result"
    }
   ],
   "source": [
    "Cx_avg=[]\n",
    "for index,value in enumerate(Cx_A):\n",
    "       sum_avg=Cx_A[index]+Cx_B[index]\n",
    "       Cx_avg.append(sum_avg/2)\n",
    "\n",
    "Cx_avg "
   ]
  },
  {
   "cell_type": "code",
   "execution_count": 37,
   "metadata": {},
   "outputs": [],
   "source": [
    "#rco2_avg=[]\n",
    "#for index,value in enumerate(rco2_A):\n",
    "#    sum_avg=rco2_A[index]+rco2_C[index]+rco2_B[index]\n",
    "#    rco2_avg.append(sum_avg/3)\n",
    "\n",
    "rco2_avg = rco2_A"
   ]
  },
  {
   "cell_type": "markdown",
   "metadata": {},
   "source": [
    "# determintation of Cx0"
   ]
  },
  {
   "cell_type": "code",
   "execution_count": 38,
   "metadata": {},
   "outputs": [],
   "source": [
    "def bio(t,mu1,CA0):\n",
    "\n",
    "    return CA0*scipy.e**(mu1*(t))"
   ]
  },
  {
   "cell_type": "code",
   "execution_count": 39,
   "metadata": {},
   "outputs": [],
   "source": [
    "t3 = numpy.array([0,1.5, 2.5, 3.5, 4.5, 5.5])"
   ]
  },
  {
   "cell_type": "code",
   "execution_count": 40,
   "metadata": {},
   "outputs": [
    {
     "name": "stdout",
     "output_type": "stream",
     "text": [
      "0.21716830093326497 0.6681169974267407\n"
     ]
    },
    {
     "data": {
      "text/plain": [
       "[<matplotlib.lines.Line2D at 0x228879a5908>]"
      ]
     },
     "execution_count": 40,
     "metadata": {},
     "output_type": "execute_result"
    },
    {
     "data": {
      "image/png": "[encoded data removed]",
      "text/plain": [
       "<Figure size 432x288 with 1 Axes>"
      ]
     },
     "metadata": {
      "needs_background": "light"
     },
     "output_type": "display_data"
    }
   ],
   "source": [
    "params = scipy.optimize.curve_fit(bio,t1,Cx_avg,p0 =(0.5,0.5))[0]\n",
    "mu_fit,Ca0_fit = params\n",
    "\n",
    "print (mu_fit,Ca0_fit)\n",
    "\n",
    "Cx_fit= bio(t3,mu_fit,Ca0_fit)\n",
    "\n",
    "plt.plot(t1,Cx_avg,\"o\")\n",
    "plt.plot(t3,Cx_fit)"
   ]
  },
  {
   "cell_type": "markdown",
   "metadata": {},
   "source": [
    "# Calculations"
   ]
  },
  {
   "cell_type": "code",
   "execution_count": 77,
   "metadata": {},
   "outputs": [
    {
     "data": {
      "text/plain": [
       "0.21716830093326497"
      ]
     },
     "execution_count": 77,
     "metadata": {},
     "output_type": "execute_result"
    }
   ],
   "source": [
    "alpha, beta, theta = 0.1, 0.1, 0.05\n",
    "gamma = 1.29\n",
    "mu = mu_fit\n",
    "mu"
   ]
  },
  {
   "cell_type": "code",
   "execution_count": 78,
   "metadata": {},
   "outputs": [],
   "source": [
    "def response_fun(C):\n",
    "    \n",
    "    Cx, Ce, Cs = C\n",
    "        \n",
    "    S = numpy.matrix([[-1, 1+alpha,    1,   0,   0],\n",
    "                      [ 0,       0,   -1,   1, 1.5],\n",
    "                      [ 0,    beta,    0,-1/3,   0],\n",
    "                      [ 0,  -gamma, -1/3,   0,   1],\n",
    "                      [ 0,       1,    0,   0,   0]])\n",
    "\n",
    "    sol = numpy.matrix([0, 0, 0, theta, mu]).T\n",
    "    r = numpy.linalg.solve(S, sol) \n",
    "        \n",
    "    \n",
    "    return [mu,        # biomass\n",
    "            r[4, 0],    # ethanol  \n",
    "            r[0, 0]]   # glucose"
   ]
  },
  {
   "cell_type": "code",
   "execution_count": 79,
   "metadata": {},
   "outputs": [],
   "source": [
    "def ferm_eq(C,t):\n",
    "    Cx, Ce, Cs = C \n",
    "    r=response_fun(C)\n",
    "    \n",
    "    return [r[0]*Cx,\n",
    "            r[1]*Cx,\n",
    "            r[2]*Cx]   "
   ]
  },
  {
   "cell_type": "markdown",
   "metadata": {},
   "source": [
    "# Biomass production  rate"
   ]
  },
  {
   "cell_type": "code",
   "execution_count": 87,
   "metadata": {},
   "outputs": [
    {
     "data": {
      "image/png": "[encoded data removed]",
      "text/plain": [
       "<Figure size 432x288 with 1 Axes>"
      ]
     },
     "metadata": {
      "needs_background": "light"
     },
     "output_type": "display_data"
    }
   ],
   "source": [
    "Cx0 = Ca0_fit\n",
    "\n",
    "Co=[Cx0, 0, (35*2)/30]\n",
    "tmax = 6\n",
    "tspan=numpy.linspace(0,tmax,tmax*100+1)            \n",
    "C = odeint(ferm_eq, Co, tspan)\n",
    "\n",
    "Cx = C[:,0]      \n",
    "Ce = C[:,1]\n",
    "\n",
    "plt.plot(tspan, Cx, color='green',label='fit')\n",
    "plt.plot(t1, Cx_A,'*', color='red', label='A1')\n",
    "plt.plot(t1, Cx_B,'*', color='blue', label='B1')\n",
    "plt.plot(t1, Cx_C, '*', color='black', label='C1')\n",
    "\n",
    "plt.legend(loc='best')\n",
    "plt.ylabel('Concentration g/L') \n",
    "plt.xlabel('time (h)') \n",
    "plt.show()"
   ]
  },
  {
   "cell_type": "markdown",
   "metadata": {},
   "source": [
    "# CO2 production rate"
   ]
  },
  {
   "cell_type": "code",
   "execution_count": 89,
   "metadata": {},
   "outputs": [
    {
     "data": {
      "image/png": "[encoded data removed]",
      "text/plain": [
       "<Figure size 432x288 with 1 Axes>"
      ]
     },
     "metadata": {
      "needs_background": "light"
     },
     "output_type": "display_data"
    }
   ],
   "source": [
    "Ci=(C[:, :1])                                  \n",
    "r=asarray([response_fun(C) for C in C])        \n",
    "\n",
    "T, P = 23, 87  # °C, kPa \n",
    "\n",
    "rx=r[:,0]\n",
    "re=r[:,1]\n",
    "rco2=(0.5*re+alpha*rx)*(1/60)*8.314*(T+273)*1000/P*(Cx/24.6)*0.5  #ml CO2/min   \n",
    "\n",
    "plt.plot(tspan, rco2, color='blue', label='fit')\n",
    "plt.plot(t2, rco2_A, '*', color='red',label='A1')\n",
    "plt.plot(t2, rco2_B, '*', color='green',label='B1')\n",
    "plt.plot(t2, rco2_C, '*', color='black',label='C1')\n",
    "\n",
    "plt.legend(loc='best')\n",
    "plt.ylabel('CO2 rate (ml/min)') \n",
    "plt.xlabel('time (h)') \n",
    "plt.show()"
   ]
  },
  {
   "cell_type": "markdown",
   "metadata": {},
   "source": [
    "# Jarryd's shit"
   ]
  },
  {
   "cell_type": "code",
   "execution_count": 82,
   "metadata": {},
   "outputs": [],
   "source": [
    "def ferm_eq_2(t,C):\n",
    "    Cx, Ce, Cs = C \n",
    "    r=response_fun_2(C)\n",
    "    \n",
    "    return [r[0]*Cx,\n",
    "            r[1]*Cx,\n",
    "            r[2]*Cx]   "
   ]
  },
  {
   "cell_type": "code",
   "execution_count": 83,
   "metadata": {},
   "outputs": [],
   "source": [
    "error=1000\n",
    "\n",
    "for gamma in numpy.arange(0,2,0.01):\n",
    "    squares=0\n",
    "    \n",
    "    def response_fun_2(C):\n",
    "    \n",
    "        Cx, Ce, Cs = C\n",
    "\n",
    "        S = numpy.matrix([[-1,1+alpha,1,0,0],\n",
    "                          [ 0,0,-1,1,1.5],\n",
    "                          [  0,beta,0,-1/3,0],\n",
    "                          [ 0,-gamma,-1/3,0,1],\n",
    "                          [ 0,1,0,0,0]])\n",
    "\n",
    "        sol = numpy.matrix([0, 0, 0, theta, mu]).T\n",
    "        r = numpy.linalg.solve(S, sol) \n",
    "\n",
    "\n",
    "        return [mu,        # biomass\n",
    "                r[4,0],    # ethanol  \n",
    "                r[0, 0]]   # glucose\n",
    "    \n",
    "    Co=[Cx0, 0, (35*2)/30]\n",
    "    tspan=[0,6]   \n",
    "#     print (Co)\n",
    "    C = scipy.integrate.solve_ivp(ferm_eq_2, tspan, Co, t_eval=t2).y\n",
    "#     print (C)\n",
    "    \n",
    "    fitted_rco2_list=[]\n",
    "    \n",
    "    for index,value in enumerate(rco2_avg):\n",
    "#         print ((C[0][index], C[1][index], C[2][index]))\n",
    "        rates = response_fun_2((C[0][index], C[1][index], C[2][index]))\n",
    "        rx, re, rs = rates\n",
    "        cx=Cx[numpy.where(numpy.linspace(0,tmax,tmax*100+1) == t2[index])]\n",
    "#         print (numpy.where(numpy.linspace(0,tmax,tmax*100+1) == t2[index]))\n",
    "      \n",
    "        fitted_rco2 = (0.5*re+alpha*rx)*(1/60)*8.314*(T+273)*1000/P*(cx)/24.6*0.5\n",
    "#         print (fitted_rco2, value, gamma)\n",
    "        squares+=(fitted_rco2-value)**2\n",
    "#         print (squares)\n",
    "        fitted_rco2_list.append(fitted_rco2)\n",
    "    if squares<error:\n",
    "#         print (squares, gamma)\n",
    "        gamma_acc=gamma\n",
    "        error=squares\n",
    "        fitted_rco2_acc=fitted_rco2_list\n",
    "#     print (squares, gamma)"
   ]
  },
  {
   "cell_type": "code",
   "execution_count": 84,
   "metadata": {},
   "outputs": [
    {
     "data": {
      "text/plain": [
       "1.29"
      ]
     },
     "execution_count": 84,
     "metadata": {},
     "output_type": "execute_result"
    }
   ],
   "source": [
    "gamma_acc"
   ]
  },
  {
   "cell_type": "code",
   "execution_count": 85,
   "metadata": {},
   "outputs": [],
   "source": [
    "gamma=gamma_acc"
   ]
  },
  {
   "cell_type": "code",
   "execution_count": 90,
   "metadata": {},
   "outputs": [
    {
     "name": "stdout",
     "output_type": "stream",
     "text": [
      "[0.21716830093326497, 0.21716830093326497, 0.21716830093326497] [0.7037278765944766, 0.7037278765944766, 0.7037278765944766]\n"
     ]
    },
    {
     "data": {
      "image/png": "[encoded data removed]",
      "text/plain": [
       "<Figure size 432x288 with 1 Axes>"
      ]
     },
     "metadata": {
      "needs_background": "light"
     },
     "output_type": "display_data"
    }
   ],
   "source": [
    "# Ci=(C[:, :1]) \n",
    "# print (Ci)\n",
    "# r=asarray([response_fun(Ci) for C in C])       \n",
    "\n",
    "r=[]\n",
    "rx=[]\n",
    "re=[]\n",
    "for values in zip(C[0],C[1],C[2]):\n",
    "    r.append(response_fun(values))\n",
    "    rx.append(response_fun(values)[0])\n",
    "    re.append(response_fun(values)[1])\n",
    "print (rx, re)\n",
    "\n",
    "T, P = 23, 87  # °C, kPa \n",
    " \n",
    "\n",
    "plt.plot(t2, fitted_rco2_acc, color='blue', label='fit')\n",
    "plt.plot(t2, rco2_A, '*', color='red',label='A1')\n",
    "plt.plot(t2, rco2_B, '*', color='green',label='B1')\n",
    "plt.plot(t2, rco2_C, '*', color='black',label='C1')\n",
    "\n",
    "plt.legend(loc='best')\n",
    "plt.ylabel('CO2 rate (ml/min)') \n",
    "plt.xlabel('time (h)') \n",
    "plt.show()"
   ]
  },
  {
   "cell_type": "code",
   "execution_count": null,
   "metadata": {},
   "outputs": [],
   "source": []
  },
  {
   "cell_type": "code",
   "execution_count": null,
   "metadata": {},
   "outputs": [],
   "source": []
  }
 ],
 "metadata": {
  "kernelspec": {
   "display_name": "Python 3",
   "language": "python",
   "name": "python3"
  },
  "language_info": {
   "codemirror_mode": {
    "name": "ipython",
    "version": 3
   },
   "file_extension": ".py",
   "mimetype": "text/x-python",
   "name": "python",
   "nbconvert_exporter": "python",
   "pygments_lexer": "ipython3",
   "version": "3.7.3"
  }
 },
 "nbformat": 4,
 "nbformat_minor": 2
}
