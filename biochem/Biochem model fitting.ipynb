{
 "cells": [
  {
   "cell_type": "code",
   "execution_count": 1,
   "metadata": {},
   "outputs": [],
   "source": [
    "import numpy\n",
    "import matplotlib.pyplot as plt\n",
    "from scipy.integrate import odeint\n",
    "import scipy.optimize\n",
    "%matplotlib inline\n",
    "from numpy import asarray"
   ]
  },
  {
   "cell_type": "code",
   "execution_count": 2,
   "metadata": {},
   "outputs": [],
   "source": [
    "# t1 is for Cx and t2 is for rCO2 (both are in hours)\n",
    "t1 = numpy.array([1.5, 2.5, 3.5, 4.5, 5.5])\n",
    "t2 = [1.25, 1.75, 2.25, 2.75, 3.25, 3.75, 4.25, 4.75, 5.25] "
   ]
  },
  {
   "cell_type": "code",
   "execution_count": 3,
   "metadata": {},
   "outputs": [],
   "source": [
    "# A3\n",
    "Cx_A = [0.9048, 1.0947, 1.4945, 1.9289, 2.4327] # g/L\n",
    "rco2_A = [3.12, 4.02, 4.94, 5, 6.24, 7.22, 8.2, 9.22, 9.8] # ml/min"
   ]
  },
  {
   "cell_type": "code",
   "execution_count": 4,
   "metadata": {},
   "outputs": [],
   "source": [
    "# B3\n",
    "Cx_B = [0.972, 0.975, 1.4, 1.48, 1.82] # g/L\n",
    "rco2_B = [2.07, 2.89, 3.49, 4.21, 5.14, 6.98, 8.25, 9.09, 9.65] # ml/min"
   ]
  },
  {
   "cell_type": "code",
   "execution_count": 5,
   "metadata": {},
   "outputs": [],
   "source": [
    "# C3\n",
    "Cx_C = [0.904, 0.9636, 1.5332, 1.8841, 2.3654] # g/L\n",
    "rco2_C = [1.8533, 2.7467, 3.2333, 5.1067, 5.8467, 6.4, 7.1933, 9.0533, 9.3333] # ml/min"
   ]
  },
  {
   "cell_type": "code",
   "execution_count": 6,
   "metadata": {},
   "outputs": [
    {
     "data": {
      "text/plain": [
       "[0.9044000000000001, 1.02915, 1.51385, 1.9065, 2.39905]"
      ]
     },
     "execution_count": 6,
     "metadata": {},
     "output_type": "execute_result"
    }
   ],
   "source": [
    "Cx_avg=[]\n",
    "for index,value in enumerate(Cx_A):\n",
    "    sum_avg=Cx_A[index]+Cx_C[index]\n",
    "    Cx_avg.append(sum_avg/2)\n",
    "\n",
    "Cx_avg"
   ]
  },
  {
   "cell_type": "code",
   "execution_count": 21,
   "metadata": {},
   "outputs": [
    {
     "data": {
      "text/plain": [
       "[2.347766666666667,\n",
       " 3.2189,\n",
       " 3.8877666666666673,\n",
       " 4.772233333333333,\n",
       " 5.742233333333334,\n",
       " 6.866666666666667,\n",
       " 7.8811,\n",
       " 9.1211,\n",
       " 9.594433333333333]"
      ]
     },
     "execution_count": 21,
     "metadata": {},
     "output_type": "execute_result"
    }
   ],
   "source": [
    "rco2_avg=[]\n",
    "for index,value in enumerate(rco2_A):\n",
    "    sum_avg=rco2_A[index]+rco2_C[index]+rco2_B[index]\n",
    "    rco2_avg.append(sum_avg/3)\n",
    "\n",
    "rco2_avg"
   ]
  },
  {
   "cell_type": "markdown",
   "metadata": {},
   "source": [
    "# determintation of Cx0"
   ]
  },
  {
   "cell_type": "code",
   "execution_count": 7,
   "metadata": {},
   "outputs": [],
   "source": [
    "def bio(t,mu1,CA0):\n",
    "\n",
    "    return CA0*scipy.e**(mu1*(t))"
   ]
  },
  {
   "cell_type": "code",
   "execution_count": 8,
   "metadata": {},
   "outputs": [],
   "source": [
    "t3 = numpy.array([0,1.5, 2.5, 3.5, 4.5, 5.5])"
   ]
  },
  {
   "cell_type": "code",
   "execution_count": 9,
   "metadata": {},
   "outputs": [
    {
     "name": "stdout",
     "output_type": "stream",
     "text": [
      "0.2548771059796611 0.5962362812163048\n"
     ]
    },
    {
     "data": {
      "text/plain": [
       "[<matplotlib.lines.Line2D at 0x9702a162e8>]"
      ]
     },
     "execution_count": 9,
     "metadata": {},
     "output_type": "execute_result"
    },
    {
     "data": {
      "image/png": "[encoded data removed]",
      "text/plain": [
       "<Figure size 432x288 with 1 Axes>"
      ]
     },
     "metadata": {
      "needs_background": "light"
     },
     "output_type": "display_data"
    }
   ],
   "source": [
    "params = scipy.optimize.curve_fit(bio,t1,Cx_avg,p0 =(0.5,0.5))[0]\n",
    "mu_fit,Ca0_fit = params\n",
    "\n",
    "print (mu_fit,Ca0_fit)\n",
    "\n",
    "Cx_fit= bio(t3,mu_fit,Ca0_fit)\n",
    "\n",
    "plt.plot(t1,Cx_avg,\"o\")\n",
    "plt.plot(t3,Cx_fit)"
   ]
  },
  {
   "cell_type": "markdown",
   "metadata": {},
   "source": [
    "# Calculations"
   ]
  },
  {
   "cell_type": "code",
   "execution_count": 10,
   "metadata": {},
   "outputs": [],
   "source": [
    "alpha, beta, theta = 0.1, 0.1, 0.05\n",
    "gamma = 1.5\n",
    "mu = mu_fit"
   ]
  },
  {
   "cell_type": "code",
   "execution_count": 11,
   "metadata": {},
   "outputs": [],
   "source": [
    "def response_fun(C):\n",
    "    \n",
    "    Cx, Ce, Cs = C\n",
    "        \n",
    "    S = numpy.matrix([[-1,1+alpha,1,0,0],\n",
    "                      [ 0,0,-1,1,1.5],\n",
    "                      [  0,beta,0,-1/3,0],\n",
    "                      [ 0,-gamma,-1/3,0,1],\n",
    "                      [ 0,1,0,0,0]])\n",
    "\n",
    "    sol = numpy.matrix([0, 0, 0, theta, mu]).T\n",
    "    r = numpy.linalg.solve(S, sol) \n",
    "        \n",
    "    \n",
    "    return [mu,        # biomass\n",
    "            r[4,0],    # ethanol  \n",
    "            r[0, 0]]   # glucose"
   ]
  },
  {
   "cell_type": "code",
   "execution_count": 12,
   "metadata": {},
   "outputs": [],
   "source": [
    "def ferm_eq(C,t):\n",
    "    Cx, Ce, Cs = C \n",
    "    r=response_fun(C)\n",
    "    \n",
    "    return [r[0]*Cx,\n",
    "            r[1]*Cx,\n",
    "            r[2]*Cx]   "
   ]
  },
  {
   "cell_type": "markdown",
   "metadata": {},
   "source": [
    "# Biomass production  rate"
   ]
  },
  {
   "cell_type": "code",
   "execution_count": 13,
   "metadata": {},
   "outputs": [
    {
     "data": {
      "image/png": "[encoded data removed]",
      "text/plain": [
       "<Figure size 432x288 with 1 Axes>"
      ]
     },
     "metadata": {
      "needs_background": "light"
     },
     "output_type": "display_data"
    }
   ],
   "source": [
    "Cx0 = Ca0_fit\n",
    "\n",
    "Co=[Cx0, 0, (35*2)/30]\n",
    "tmax = 6\n",
    "tspan=numpy.linspace(0,tmax,tmax*100+1)            \n",
    "C = odeint(ferm_eq, Co, tspan)\n",
    "\n",
    "Cx = C[:,0]      \n",
    "Ce = C[:,1]\n",
    "\n",
    "plt.plot(tspan, Cx, color='green',label='fit')\n",
    "plt.plot(t1, Cx_A,'*', color='red', label='A')\n",
    "plt.plot(t1, Cx_B,'*', color='blue', label='B')\n",
    "plt.plot(t1, Cx_C, '*', color='black', label='C')\n",
    "\n",
    "plt.legend(loc='best')\n",
    "plt.ylabel('Concentration g/L') \n",
    "plt.xlabel('time (h)') \n",
    "plt.show()"
   ]
  },
  {
   "cell_type": "markdown",
   "metadata": {},
   "source": [
    "# CO2 production rate"
   ]
  },
  {
   "cell_type": "code",
   "execution_count": 14,
   "metadata": {},
   "outputs": [
    {
     "data": {
      "image/png": "[encoded data removed]",
      "text/plain": [
       "<Figure size 432x288 with 1 Axes>"
      ]
     },
     "metadata": {
      "needs_background": "light"
     },
     "output_type": "display_data"
    }
   ],
   "source": [
    "Ci=(C[:, :1])                                  \n",
    "r=asarray([response_fun(C) for C in C])        \n",
    "\n",
    "T, P = 23, 86  # °C, kPa \n",
    "\n",
    "rx=r[:,0]\n",
    "re=r[:,1]\n",
    "rco2=(0.5*re+alpha*rx)*(1/60)*8.314*(T+273)*1000/P*(Cx/24.6)*0.5  #ml CO2/min   \n",
    "\n",
    "plt.plot(tspan, rco2, color='blue', label='fit')\n",
    "plt.plot(t2, rco2_A, '*', color='red',label='A')\n",
    "plt.plot(t2, rco2_B, '*', color='green',label='B')\n",
    "plt.plot(t2, rco2_C, '*', color='black',label='C')\n",
    "\n",
    "plt.legend(loc='best')\n",
    "plt.ylabel('CO2 rate (ml/min)') \n",
    "plt.xlabel('time (h)') \n",
    "plt.show()"
   ]
  },
  {
   "cell_type": "markdown",
   "metadata": {},
   "source": [
    "# Jarryd's shit"
   ]
  },
  {
   "cell_type": "code",
   "execution_count": 15,
   "metadata": {},
   "outputs": [],
   "source": [
    "def ferm_eq_2(t,C):\n",
    "    Cx, Ce, Cs = C \n",
    "    r=response_fun_2(C)\n",
    "    \n",
    "    return [r[0]*Cx,\n",
    "            r[1]*Cx,\n",
    "            r[2]*Cx]   "
   ]
  },
  {
   "cell_type": "code",
   "execution_count": 22,
   "metadata": {},
   "outputs": [],
   "source": [
    "error=1000\n",
    "\n",
    "for gamma in numpy.arange(0,2,0.01):\n",
    "    squares=0\n",
    "    \n",
    "    def response_fun_2(C):\n",
    "    \n",
    "        Cx, Ce, Cs = C\n",
    "\n",
    "        S = numpy.matrix([[-1,1+alpha,1,0,0],\n",
    "                          [ 0,0,-1,1,1.5],\n",
    "                          [  0,beta,0,-1/3,0],\n",
    "                          [ 0,-gamma,-1/3,0,1],\n",
    "                          [ 0,1,0,0,0]])\n",
    "\n",
    "        sol = numpy.matrix([0, 0, 0, theta, mu]).T\n",
    "        r = numpy.linalg.solve(S, sol) \n",
    "\n",
    "\n",
    "        return [mu,        # biomass\n",
    "                r[4,0],    # ethanol  \n",
    "                r[0, 0]]   # glucose\n",
    "    \n",
    "    Co=[Cx0, 0, (35*2)/30]\n",
    "    tspan=[0,6]   \n",
    "#     print (Co)\n",
    "    C = scipy.integrate.solve_ivp(ferm_eq_2, tspan, Co, t_eval=t2).y\n",
    "#     print (C)\n",
    "    \n",
    "    fitted_rco2_list=[]\n",
    "    \n",
    "    for index,value in enumerate(rco2_avg):\n",
    "#         print ((C[0][index], C[1][index], C[2][index]))\n",
    "        rates = response_fun_2((C[0][index], C[1][index], C[2][index]))\n",
    "        rx, re, rs = rates\n",
    "        cx=Cx[numpy.where(numpy.linspace(0,tmax,tmax*100+1) == t2[index])]\n",
    "#         print (numpy.where(numpy.linspace(0,tmax,tmax*100+1) == t2[index]))\n",
    "      \n",
    "        fitted_rco2 = (0.5*re+alpha*rx)*(1/60)*8.314*(T+273)*1000/P*(cx)/24.6*0.5\n",
    "#         print (fitted_rco2, value, gamma)\n",
    "        squares+=(fitted_rco2-value)**2\n",
    "#         print (squares)\n",
    "        fitted_rco2_list.append(fitted_rco2)\n",
    "    if squares<error:\n",
    "#         print (squares, gamma)\n",
    "        gamma_acc=gamma\n",
    "        error=squares\n",
    "        fitted_rco2_acc=fitted_rco2_list\n",
    "#     print (squares, gamma)"
   ]
  },
  {
   "cell_type": "code",
   "execution_count": 23,
   "metadata": {},
   "outputs": [
    {
     "data": {
      "text/plain": [
       "1.31"
      ]
     },
     "execution_count": 23,
     "metadata": {},
     "output_type": "execute_result"
    }
   ],
   "source": [
    "gamma_acc"
   ]
  },
  {
   "cell_type": "code",
   "execution_count": 24,
   "metadata": {},
   "outputs": [],
   "source": [
    "gamma=gamma_acc"
   ]
  },
  {
   "cell_type": "code",
   "execution_count": 25,
   "metadata": {},
   "outputs": [
    {
     "name": "stdout",
     "output_type": "stream",
     "text": [
      "[0.2548771059796611, 0.2548771059796611, 0.2548771059796611, 0.2548771059796611, 0.2548771059796611, 0.2548771059796611, 0.2548771059796611, 0.2548771059796611, 0.2548771059796611] [0.8187534388626443, 0.8187534388626443, 0.8187534388626443, 0.8187534388626443, 0.8187534388626443, 0.8187534388626443, 0.8187534388626443, 0.8187534388626443, 0.8187534388626443]\n"
     ]
    },
    {
     "data": {
      "image/png": "[encoded data removed]",
      "text/plain": [
       "<Figure size 432x288 with 1 Axes>"
      ]
     },
     "metadata": {
      "needs_background": "light"
     },
     "output_type": "display_data"
    }
   ],
   "source": [
    "# Ci=(C[:, :1]) \n",
    "# print (Ci)\n",
    "# r=asarray([response_fun(Ci) for C in C])       \n",
    "\n",
    "r=[]\n",
    "rx=[]\n",
    "re=[]\n",
    "for values in zip(C[0],C[1],C[2]):\n",
    "    r.append(response_fun(values))\n",
    "    rx.append(response_fun(values)[0])\n",
    "    re.append(response_fun(values)[1])\n",
    "print (rx, re)\n",
    "\n",
    "T, P = 23, 86  # °C, kPa \n",
    " \n",
    "\n",
    "plt.plot(t2, fitted_rco2_acc, color='blue', label='fit')\n",
    "plt.plot(t2, rco2_A, '*', color='red',label='A')\n",
    "plt.plot(t2, rco2_B, '*', color='green',label='B')\n",
    "plt.plot(t2, rco2_C, '*', color='black',label='C')\n",
    "\n",
    "plt.legend(loc='best')\n",
    "plt.ylabel('CO2 rate (ml/min)') \n",
    "plt.xlabel('time (h)') \n",
    "plt.show()"
   ]
  },
  {
   "cell_type": "code",
   "execution_count": null,
   "metadata": {},
   "outputs": [],
   "source": []
  },
  {
   "cell_type": "code",
   "execution_count": null,
   "metadata": {},
   "outputs": [],
   "source": []
  }
 ],
 "metadata": {
  "kernelspec": {
   "display_name": "Python 3",
   "language": "python",
   "name": "python3"
  },
  "language_info": {
   "codemirror_mode": {
    "name": "ipython",
    "version": 3
   },
   "file_extension": ".py",
   "mimetype": "text/x-python",
   "name": "python",
   "nbconvert_exporter": "python",
   "pygments_lexer": "ipython3",
   "version": "3.7.3"
  }
 },
 "nbformat": 4,
 "nbformat_minor": 2
}
