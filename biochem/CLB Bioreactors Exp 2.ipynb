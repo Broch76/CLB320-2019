{
 "cells": [
  {
   "cell_type": "code",
   "execution_count": 724,
   "metadata": {},
   "outputs": [],
   "source": [
    "%matplotlib inline"
   ]
  },
  {
   "cell_type": "code",
   "execution_count": 725,
   "metadata": {},
   "outputs": [],
   "source": [
    "import numpy as np\n",
    "import scipy.integrate\n",
    "import scipy.optimize\n",
    "from matplotlib import pyplot as plt"
   ]
  },
  {
   "cell_type": "markdown",
   "metadata": {},
   "source": [
    "# Fitting $\\mu$"
   ]
  },
  {
   "cell_type": "code",
   "execution_count": 726,
   "metadata": {},
   "outputs": [],
   "source": [
    "Cx_avg = [1.1255664, 1.267432267, 1.469832267, 1.6822116, 1.9686732]\n",
    "Cx_A2 = [0.8711072, 0.9804736, 1.390476, 1.5821988, 1.963604]\n",
    "Cx_B2 = [1.072592, 1.2538232, 1.4700208, 1.800436, 2.1084156]\n",
    "Cx_C2 = [1.433, 1.568, 1.549, 1.664, 1.834]\n",
    "tspan = [1.5, 2.5, 3.5, 4.5, 5.5]"
   ]
  },
  {
   "cell_type": "code",
   "execution_count": 727,
   "metadata": {},
   "outputs": [
    {
     "data": {
      "text/plain": [
       "array([0.9718496, 1.1171484, 1.4302484, 1.6913174, 2.0360098])"
      ]
     },
     "execution_count": 727,
     "metadata": {},
     "output_type": "execute_result"
    }
   ],
   "source": [
    "Cx_avg = (np.array(Cx_A2) + np.array(Cx_B2)) / 2\n",
    "Cx_avg"
   ]
  },
  {
   "cell_type": "code",
   "execution_count": 728,
   "metadata": {},
   "outputs": [],
   "source": [
    "tvals = np.array(tspan)"
   ]
  },
  {
   "cell_type": "code",
   "execution_count": 729,
   "metadata": {},
   "outputs": [],
   "source": [
    "def fit(t, k, mu):\n",
    "    Cx = k*scipy.e**(mu*t)\n",
    "    return Cx"
   ]
  },
  {
   "cell_type": "code",
   "execution_count": 730,
   "metadata": {},
   "outputs": [
    {
     "data": {
      "text/plain": [
       "(0.721732693531793, 0.18907695326370638)"
      ]
     },
     "execution_count": 730,
     "metadata": {},
     "output_type": "execute_result"
    }
   ],
   "source": [
    "parameters_avg = scipy.optimize.curve_fit(fit, tspan, Cx_avg, p0=[0.5, 0.5])[0]\n",
    "k_avg, μ_avg = parameters_avg[0], parameters_avg[1]\n",
    "k_avg, μ_avg"
   ]
  },
  {
   "cell_type": "code",
   "execution_count": 731,
   "metadata": {},
   "outputs": [],
   "source": [
    "Cx_avg_pred = fit(tvals, k_avg, μ_avg)"
   ]
  },
  {
   "cell_type": "code",
   "execution_count": 732,
   "metadata": {},
   "outputs": [
    {
     "data": {
      "text/plain": [
       "<matplotlib.legend.Legend at 0x2146117fb00>"
      ]
     },
     "execution_count": 732,
     "metadata": {},
     "output_type": "execute_result"
    },
    {
     "data": {
      "image/png": "[encoded data removed]",
      "text/plain": [
       "<Figure size 432x288 with 1 Axes>"
      ]
     },
     "metadata": {
      "needs_background": "light"
     },
     "output_type": "display_data"
    }
   ],
   "source": [
    "plt.plot(tspan, Cx_avg, 'o', label='Average')\n",
    "plt.plot(tvals, Cx_avg_pred)\n",
    "plt.plot(tvals, Cx_A2, '*', label='A2')\n",
    "plt.plot(tvals, Cx_B2, '*', label='B2')\n",
    "plt.plot(tvals, Cx_C2, '*', label='C2')\n",
    "plt.legend(loc='best')"
   ]
  },
  {
   "cell_type": "code",
   "execution_count": 733,
   "metadata": {},
   "outputs": [
    {
     "data": {
      "text/plain": [
       "(0.6290670260099501, 0.2076521286067348)"
      ]
     },
     "execution_count": 733,
     "metadata": {},
     "output_type": "execute_result"
    }
   ],
   "source": [
    "parameters_A2 = scipy.optimize.curve_fit(fit, tspan, Cx_A2, p0=[0.5, 0.5])[0]\n",
    "k_A2, μ_A2 = parameters_A2\n",
    "k_A2, μ_A2"
   ]
  },
  {
   "cell_type": "code",
   "execution_count": 734,
   "metadata": {},
   "outputs": [],
   "source": [
    "Cx_A2_pred = fit(tvals, k_A2, μ_A2)"
   ]
  },
  {
   "cell_type": "code",
   "execution_count": 735,
   "metadata": {},
   "outputs": [
    {
     "data": {
      "text/plain": [
       "[<matplotlib.lines.Line2D at 0x214610005c0>]"
      ]
     },
     "execution_count": 735,
     "metadata": {},
     "output_type": "execute_result"
    },
    {
     "data": {
      "image/png": "[encoded data removed]",
      "text/plain": [
       "<Figure size 432x288 with 1 Axes>"
      ]
     },
     "metadata": {
      "needs_background": "light"
     },
     "output_type": "display_data"
    }
   ],
   "source": [
    "plt.plot(tspan, Cx_A2, '*')\n",
    "plt.plot(tvals, Cx_A2_pred)"
   ]
  },
  {
   "cell_type": "markdown",
   "metadata": {},
   "source": [
    "# Flux Model"
   ]
  },
  {
   "cell_type": "code",
   "execution_count": 736,
   "metadata": {},
   "outputs": [],
   "source": [
    "α = 0.1\n",
    "β = 0.1\n",
    "θ = 0.05"
   ]
  },
  {
   "cell_type": "code",
   "execution_count": 771,
   "metadata": {},
   "outputs": [],
   "source": [
    "γ = 0.4"
   ]
  },
  {
   "cell_type": "code",
   "execution_count": 772,
   "metadata": {},
   "outputs": [],
   "source": [
    "μ = μ_avg"
   ]
  },
  {
   "cell_type": "code",
   "execution_count": 773,
   "metadata": {},
   "outputs": [],
   "source": [
    "def response_function(C):\n",
    "    Cx, Cs, Ce = C\n",
    "    #                0       1    2      3    4\n",
    "    A = np.matrix([ [-1, (1+α),    1,    0,   0], # Node C\n",
    "                    [0,      0,   -1,    1, 1.5], # Node C\n",
    "                    [0,      β,    0, -1/3,   0], # NADH Balance\n",
    "                    [0,     -γ, -1/3,    0,   1], # ATP Balance\n",
    "                    [0,      1,    0,    0,   0], # Basis r1 = rX = μ            \n",
    "                                                     ])\n",
    "\n",
    "    b = np.matrix([0, 0, 0, θ, μ]).T\n",
    "    r = np.linalg.solve(A, b)\n",
    "    \n",
    "    return [ r[1,0], # rX - Biomass\n",
    "            -r[0,0], # -rS - Glucose is consumed\n",
    "             r[4,0]] # r"
   ]
  },
  {
   "cell_type": "code",
   "execution_count": 774,
   "metadata": {},
   "outputs": [],
   "source": [
    "def fermenter_equation(C, t):\n",
    "    Cx, Cs, Ce = C\n",
    "    rx, rs, re = response_function(C)\n",
    "    dCxdt = rx*Cx\n",
    "    dCsdt = rs*Cx\n",
    "    dCedt = re*Cx\n",
    "    return [dCxdt, dCsdt, dCedt]"
   ]
  },
  {
   "cell_type": "code",
   "execution_count": 775,
   "metadata": {},
   "outputs": [],
   "source": [
    "t1 = np.linspace(0, 3, 500)"
   ]
  },
  {
   "cell_type": "code",
   "execution_count": 776,
   "metadata": {},
   "outputs": [],
   "source": [
    "MM_X = 24.6 #gX/cmolX\n",
    "MM_S = 30   #gS/cmolS"
   ]
  },
  {
   "cell_type": "code",
   "execution_count": 777,
   "metadata": {},
   "outputs": [],
   "source": [
    "Cxo = k_avg/MM_X  #cmolX/L"
   ]
  },
  {
   "cell_type": "code",
   "execution_count": 778,
   "metadata": {},
   "outputs": [],
   "source": [
    "Cso_1 = (25/0.5)/MM_S\n",
    "Gluc_addition = (5/0.5)/MM_S"
   ]
  },
  {
   "cell_type": "code",
   "execution_count": 779,
   "metadata": {},
   "outputs": [],
   "source": [
    "Co_1 = [Cxo, Cso_1, 0]"
   ]
  },
  {
   "cell_type": "code",
   "execution_count": 780,
   "metadata": {},
   "outputs": [],
   "source": [
    "Ci_1 = scipy.integrate.odeint(fermenter_equation, Co_1, t1)\n",
    "ri = np.asarray([response_function(C) for C in Ci_1])"
   ]
  },
  {
   "cell_type": "code",
   "execution_count": 781,
   "metadata": {},
   "outputs": [],
   "source": [
    "Cx_1, Cs_1, Ce_1 = Ci_1.T\n",
    "rx, rs, re = ri.T   # rates are constant throughout due to lack of inhibition"
   ]
  },
  {
   "cell_type": "code",
   "execution_count": 782,
   "metadata": {},
   "outputs": [],
   "source": [
    "Cxo_2 = Cx_1[-1] \n",
    "Cso_2 = Cs_1[-1] + Gluc_addition\n",
    "Ceo_2 = Ce_1[-1]\n",
    "Co_2 = [Cxo_2, Cso_2, Ceo_2]"
   ]
  },
  {
   "cell_type": "code",
   "execution_count": 783,
   "metadata": {},
   "outputs": [],
   "source": [
    "t2 = np.linspace(3, 4, 500)"
   ]
  },
  {
   "cell_type": "code",
   "execution_count": 784,
   "metadata": {},
   "outputs": [],
   "source": [
    "Ci_2 = scipy.integrate.odeint(fermenter_equation, Co_2, t2)"
   ]
  },
  {
   "cell_type": "code",
   "execution_count": 785,
   "metadata": {},
   "outputs": [],
   "source": [
    "Cx_2, Cs_2, Ce_2 = Ci_2.T"
   ]
  },
  {
   "cell_type": "code",
   "execution_count": 786,
   "metadata": {},
   "outputs": [],
   "source": [
    "Cxo_3 = Cx_2[-1] \n",
    "Cso_3 = Cs_2[-1] + Gluc_addition\n",
    "Ceo_3 = Ce_2[-1]\n",
    "Co_3 = [Cxo_3, Cso_3, Ceo_3]"
   ]
  },
  {
   "cell_type": "code",
   "execution_count": 787,
   "metadata": {},
   "outputs": [],
   "source": [
    "t3 = np.linspace(4, 6, 500)"
   ]
  },
  {
   "cell_type": "code",
   "execution_count": 788,
   "metadata": {},
   "outputs": [],
   "source": [
    "Ci_3 = scipy.integrate.odeint(fermenter_equation, Co_3, t3)"
   ]
  },
  {
   "cell_type": "code",
   "execution_count": 789,
   "metadata": {},
   "outputs": [],
   "source": [
    "Cx_3, Cs_3, Ce_3 = Ci_3.T"
   ]
  },
  {
   "cell_type": "code",
   "execution_count": 790,
   "metadata": {},
   "outputs": [],
   "source": [
    "Cs_tot = np.concatenate((Cs_1, Cs_2, Cs_3))  # merges all three arrays together"
   ]
  },
  {
   "cell_type": "code",
   "execution_count": 791,
   "metadata": {},
   "outputs": [],
   "source": [
    "t_tot = np.concatenate((t1, t2, t3))"
   ]
  },
  {
   "cell_type": "code",
   "execution_count": 792,
   "metadata": {},
   "outputs": [
    {
     "data": {
      "text/plain": [
       "Text(0.5, 0, 't (h)')"
      ]
     },
     "execution_count": 792,
     "metadata": {},
     "output_type": "execute_result"
    },
    {
     "data": {
      "image/png": "[encoded data removed]",
      "text/plain": [
       "<Figure size 432x288 with 1 Axes>"
      ]
     },
     "metadata": {
      "needs_background": "light"
     },
     "output_type": "display_data"
    }
   ],
   "source": [
    "plt.plot(t_tot, Cs_tot)\n",
    "plt.legend(['Cs'])\n",
    "plt.ylabel('Concentration (cmol S/L)')\n",
    "plt.xlabel('t (h)')"
   ]
  },
  {
   "cell_type": "code",
   "execution_count": 793,
   "metadata": {},
   "outputs": [],
   "source": [
    "Cx_tot = np.concatenate((Cx_1, Cx_2, Cx_3))  # merges all three arrays together\n",
    "Ce_tot = np.concatenate((Ce_1, Ce_2, Ce_3))  # merges all three arrays together"
   ]
  },
  {
   "cell_type": "code",
   "execution_count": 794,
   "metadata": {},
   "outputs": [
    {
     "data": {
      "text/plain": [
       "Text(0, 0.5, 'Concentration (cmol/L)')"
      ]
     },
     "execution_count": 794,
     "metadata": {},
     "output_type": "execute_result"
    },
    {
     "data": {
      "image/png": "[encoded data removed]",
      "text/plain": [
       "<Figure size 432x288 with 1 Axes>"
      ]
     },
     "metadata": {
      "needs_background": "light"
     },
     "output_type": "display_data"
    }
   ],
   "source": [
    "plt.plot(t_tot, Cx_tot)\n",
    "plt.plot(t_tot, Ce_tot)\n",
    "plt.legend(['Cx', 'Ce'], loc = 'best')\n",
    "plt.xlabel('t (h)')\n",
    "plt.ylabel('Concentration (cmol/L)')"
   ]
  },
  {
   "cell_type": "code",
   "execution_count": 795,
   "metadata": {},
   "outputs": [
    {
     "data": {
      "text/plain": [
       "Text(0, 0.5, 'Concentration of biomass (g/L)')"
      ]
     },
     "execution_count": 795,
     "metadata": {},
     "output_type": "execute_result"
    },
    {
     "data": {
      "image/png": "[encoded data removed]",
      "text/plain": [
       "<Figure size 432x288 with 1 Axes>"
      ]
     },
     "metadata": {
      "needs_background": "light"
     },
     "output_type": "display_data"
    }
   ],
   "source": [
    "Cx_tot_mass = Cx_tot * MM_X # g/L\n",
    "plt.plot(t_tot, Cx_tot_mass)\n",
    "plt.plot(tvals, Cx_A2, 'ob', label='A2')\n",
    "plt.plot(tvals, Cx_B2, '^', label='B2')\n",
    "plt.plot(tvals, Cx_C2, '*', label='C2')\n",
    "plt.legend(loc='best')\n",
    "plt.xlabel('t (h)')\n",
    "plt.ylabel('Concentration of biomass (g/L)')"
   ]
  },
  {
   "cell_type": "code",
   "execution_count": 796,
   "metadata": {},
   "outputs": [],
   "source": [
    "T = 23 + 273.15 #K\n",
    "P = 86 #kPa\n",
    "R = 8.314 # kPa.L/mol.K"
   ]
  },
  {
   "cell_type": "code",
   "execution_count": 797,
   "metadata": {},
   "outputs": [],
   "source": [
    "rCO2 = (α*rx + 0.5*re) #(mol CO2)/(cmol X.h)\n",
    "rCO2_tot = np.concatenate((rCO2, rCO2, rCO2))\n",
    "rCO2_mL_min = rCO2_tot * (1/60) * Cx_tot * ((R*T)/P) * 1000 # mL/min"
   ]
  },
  {
   "cell_type": "code",
   "execution_count": 798,
   "metadata": {},
   "outputs": [],
   "source": [
    "t_CO2 = [1.25, 1.75, 2.25, 2.75, 3.25, 3.75, 4.25, 4.75, 5.25]\n",
    "rCO2_A2 = [1.958, 2.192, 2.667, 3.6, 4.143, 4.625, 5.714, 7.667, 7.82]\n",
    "rCO2_B2 = [2.666, 3.0833, 3.5341, 4.25, 4.875, 5.6238, 6.6667, 7.4083, 8.3333]\n",
    "rCO2_C2 = [1.89, 2.34, 3.073, 4.12, 4.718, 5.035, 5.652, 7.256, 7.7]\n",
    "rCO2_avg = [2.171333333, 2.538433333, 3.091366667, 3.99, 4.578666667, 5.0946, 6.0109, 7.443766667, 7.9511]"
   ]
  },
  {
   "cell_type": "code",
   "execution_count": 799,
   "metadata": {},
   "outputs": [
    {
     "data": {
      "text/plain": [
       "Text(0, 0.5, 'rCO2 (mL/min)')"
      ]
     },
     "execution_count": 799,
     "metadata": {},
     "output_type": "execute_result"
    },
    {
     "data": {
      "image/png": "[encoded data removed]",
      "text/plain": [
       "<Figure size 432x288 with 1 Axes>"
      ]
     },
     "metadata": {
      "needs_background": "light"
     },
     "output_type": "display_data"
    }
   ],
   "source": [
    "plt.plot(t_tot, rCO2_mL_min)\n",
    "plt.plot(t_CO2, rCO2_A2, 'ob',label='A2')\n",
    "plt.plot(t_CO2, rCO2_B2, '*',label='B2')\n",
    "plt.plot(t_CO2, rCO2_C2, '^',label='C2')\n",
    "plt.plot(t_CO2, rCO2_avg, 'or', label='Average')\n",
    "plt.legend(loc='best')\n",
    "plt.xlabel('t (h)')\n",
    "plt.ylabel('rCO2 (mL/min)')\n",
    "# plt.axis([0,6,0,10])"
   ]
  },
  {
   "cell_type": "code",
   "execution_count": 800,
   "metadata": {},
   "outputs": [],
   "source": [
    "def ferm_eq_2(t,C):\n",
    "    Cx, Ce, Cs = C \n",
    "    r=response_fun_2(C)\n",
    "    \n",
    "    return [r[0]*Cx,\n",
    "            r[1]*Cx,\n",
    "            r[2]*Cx]   "
   ]
  },
  {
   "cell_type": "code",
   "execution_count": 803,
   "metadata": {},
   "outputs": [],
   "source": [
    "error=1000\n",
    "\n",
    "for gamma in np.arange(0, 2, 0.01):\n",
    "    squares = 0\n",
    "    \n",
    "    def response_fun_2(C):\n",
    "        Cx, Ce, Cs = C\n",
    "\n",
    "        S = np.matrix([[-1,1+α,1,0,0],\n",
    "                          [ 0,0,-1,1,1.5],\n",
    "                          [  0,β,0,-1/3,0],\n",
    "                          [ 0,-gamma,-1/3,0,1],\n",
    "                          [ 0,1,0,0,0]])\n",
    "\n",
    "        sol = np.matrix([0, 0, 0, θ, μ_avg]).T\n",
    "        r = np.linalg.solve(S, sol) \n",
    "\n",
    "        return [μ_avg,        # biomass\n",
    "                r[4,0],    # ethanol  \n",
    "                -r[0,0]]   # glucose\n",
    "    \n",
    "    Co = [Cxo, 0, (25*2)/30]\n",
    "    tspan = [0,6]   \n",
    "#     print (Co)\n",
    "    t2 = [1.25, 1.75, 2.25, 2.75, 3.25, 3.75, 4.25, 4.75, 5.25] \n",
    "    C = scipy.integrate.solve_ivp(ferm_eq_2, tspan, Co, t_eval = t2).y\n",
    "#     print (C)\n",
    "    \n",
    "    fitted_rco2_list=[]\n",
    "    \n",
    "    for index, value in enumerate(rCO2_avg):\n",
    "#         print ((C[0][index], C[1][index], C[2][index]))\n",
    "        rates = response_fun_2((C[0][index], C[1][index], C[2][index]))\n",
    "        rx, re, rs = rates\n",
    "        tmax = 6\n",
    "        Cx = Cx_tot\n",
    "        cx = Cx[np.where(np.linspace(0,tmax,tmax*100+1) == t2[index])]\n",
    "#         print (numpy.where(numpy.linspace(0,tmax,tmax*100+1) == t2[index]))\n",
    "      \n",
    "#         fitted_rco2 = (0.5*re+α*rx)*(1/60)*8.314*(T)*1000/P*(cx)/24.6*0.5\n",
    "        fitted_rco2 = (0.5*re+α*rx) * (1/60) * (cx) * ((R*T)/P) * 1000\n",
    "#         print (fitted_rco2, value, gamma)\n",
    "        squares += (fitted_rco2 - value)**2\n",
    "#         print (squares)\n",
    "        fitted_rco2_list.append(fitted_rco2)\n",
    "    \n",
    "    if squares < error:\n",
    "#         print (squares, gamma)\n",
    "        gamma_acc = gamma\n",
    "        error = squares\n",
    "        fitted_rco2_acc = fitted_rco2_list\n",
    "#     print (squares, gamma)"
   ]
  },
  {
   "cell_type": "code",
   "execution_count": 804,
   "metadata": {},
   "outputs": [
    {
     "data": {
      "text/plain": [
       "0.81"
      ]
     },
     "execution_count": 804,
     "metadata": {},
     "output_type": "execute_result"
    }
   ],
   "source": [
    "gamma_acc"
   ]
  },
  {
   "cell_type": "code",
   "execution_count": 805,
   "metadata": {},
   "outputs": [],
   "source": [
    "γ = gamma_acc"
   ]
  },
  {
   "cell_type": "code",
   "execution_count": 806,
   "metadata": {},
   "outputs": [
    {
     "name": "stdout",
     "output_type": "stream",
     "text": [
      "[array([3.8884987]), array([4.11590967]), array([4.35662061]), array([4.61140903]), array([4.88109825]), array([5.16655974]), array([5.46871618]), array([5.78854328]), array([6.00525638])]\n"
     ]
    }
   ],
   "source": [
    "print(fitted_rco2_acc)"
   ]
  },
  {
   "cell_type": "code",
   "execution_count": 807,
   "metadata": {},
   "outputs": [
    {
     "name": "stdout",
     "output_type": "stream",
     "text": [
      "[1.25, 1.75, 2.25, 2.75, 3.25, 3.75, 4.25, 4.75, 5.25]\n"
     ]
    }
   ],
   "source": [
    "print(t2)"
   ]
  },
  {
   "cell_type": "code",
   "execution_count": 811,
   "metadata": {},
   "outputs": [
    {
     "name": "stdout",
     "output_type": "stream",
     "text": [
      "[0.18907695326370638, 0.18907695326370638, 0.18907695326370638, 0.18907695326370638, 0.18907695326370638, 0.18907695326370638, 0.18907695326370638, 0.18907695326370638, 0.18907695326370638] [0.44412005493994566, 0.44412005493994566, 0.44412005493994566, 0.44412005493994566, 0.44412005493994566, 0.44412005493994566, 0.44412005493994566, 0.44412005493994566, 0.44412005493994566]\n"
     ]
    },
    {
     "data": {
      "image/png": "[encoded data removed]",
      "text/plain": [
       "<Figure size 432x288 with 1 Axes>"
      ]
     },
     "metadata": {
      "needs_background": "light"
     },
     "output_type": "display_data"
    }
   ],
   "source": [
    "# Ci=(C[:, :1]) \n",
    "# print (Ci)\n",
    "# r=asarray([response_fun(Ci) for C in C])       \n",
    "\n",
    "r=[]\n",
    "rx=[]\n",
    "re=[]\n",
    "for values in zip(C[0],C[1],C[2]):\n",
    "    r.append(response_function(values))\n",
    "    rx.append(response_function(values)[0])\n",
    "    re.append(response_function(values)[2])\n",
    "print (rx, re)\n",
    "\n",
    "T, P = 23, 86  # °C, kPa \n",
    " \n",
    "\n",
    "plt.plot(t2, fitted_rco2_acc, color='blue', label='fit')\n",
    "plt.plot(t2, rCO2_A2, '*', color='red',label='A2')\n",
    "plt.plot(t2, rCO2_B2, '*', color='green',label='B2')\n",
    "plt.plot(t2, rCO2_C2, '*', color='black',label='C2')\n",
    "\n",
    "plt.legend(loc='best')\n",
    "plt.ylabel('CO2 rate (ml/min)') \n",
    "plt.xlabel('time (h)') \n",
    "plt.show()"
   ]
  },
  {
   "cell_type": "code",
   "execution_count": null,
   "metadata": {},
   "outputs": [],
   "source": []
  }
 ],
 "metadata": {
  "kernelspec": {
   "display_name": "Python 3",
   "language": "python",
   "name": "python3"
  },
  "language_info": {
   "codemirror_mode": {
    "name": "ipython",
    "version": 3
   },
   "file_extension": ".py",
   "mimetype": "text/x-python",
   "name": "python",
   "nbconvert_exporter": "python",
   "pygments_lexer": "ipython3",
   "version": "3.7.3"
  }
 },
 "nbformat": 4,
 "nbformat_minor": 2
}
